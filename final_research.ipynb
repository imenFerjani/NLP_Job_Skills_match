{
  "cells": [
    {
      "cell_type": "markdown",
      "metadata": {
        "id": "view-in-github",
        "colab_type": "text"
      },
      "source": [
        "<a href=\"https://colab.research.google.com/github/imenFerjani/NLP_Job_Skills_match/blob/main/final_research.ipynb\" target=\"_parent\"><img src=\"https://colab.research.google.com/assets/colab-badge.svg\" alt=\"Open In Colab\"/></a>"
      ]
    },
    {
      "cell_type": "markdown",
      "metadata": {
        "id": "iBjcPYkGYKhS"
      },
      "source": [
        "### Mounting Google drive\n"
      ]
    },
    {
      "cell_type": "code",
      "execution_count": null,
      "metadata": {
        "id": "4L5XPSnxylKe",
        "colab": {
          "base_uri": "https://localhost:8080/"
        },
        "outputId": "89984227-dee4-44f9-8a81-48ae7b8de9f1"
      },
      "outputs": [
        {
          "output_type": "stream",
          "name": "stdout",
          "text": [
            "Mounted at /content/drive\n"
          ]
        }
      ],
      "source": [
        "from google.colab import drive\n",
        "drive.mount('/content/drive')"
      ]
    },
    {
      "cell_type": "code",
      "execution_count": null,
      "metadata": {
        "colab": {
          "base_uri": "https://localhost:8080/"
        },
        "id": "kWBHTB-xysfn",
        "outputId": "1bc033cb-b88a-4bec-e50b-182121606031"
      },
      "outputs": [
        {
          "output_type": "stream",
          "name": "stdout",
          "text": [
            "/content/drive/My Drive/resume-to-job-matcher-Spacy--master/five_class_entitydata\n"
          ]
        }
      ],
      "source": [
        "%cd '/content/drive/My Drive/resume-to-job-matcher-Spacy--master/five_class_entitydata'"
      ]
    },
    {
      "cell_type": "code",
      "execution_count": null,
      "metadata": {
        "colab": {
          "base_uri": "https://localhost:8080/"
        },
        "id": "rfheQzAO6SfE",
        "outputId": "86f4ab69-a607-4042-c979-b71cb151f30e"
      },
      "outputs": [
        {
          "output_type": "stream",
          "name": "stdout",
          "text": [
            "Looking in indexes: https://pypi.org/simple, https://us-python.pkg.dev/colab-wheels/public/simple/\n",
            "Collecting spacy==2.0.18\n",
            "  Downloading spacy-2.0.18-cp37-cp37m-manylinux1_x86_64.whl (25.2 MB)\n",
            "\u001b[K     |████████████████████████████████| 25.2 MB 58.1 MB/s \n",
            "\u001b[?25hRequirement already satisfied: ujson>=1.35 in /usr/local/lib/python3.7/dist-packages (from spacy==2.0.18) (5.4.0)\n",
            "Collecting thinc<6.13.0,>=6.12.1\n",
            "  Downloading thinc-6.12.1-cp37-cp37m-manylinux1_x86_64.whl (1.9 MB)\n",
            "\u001b[K     |████████████████████████████████| 1.9 MB 36.5 MB/s \n",
            "\u001b[?25hCollecting regex==2018.01.10\n",
            "  Downloading regex-2018.01.10.tar.gz (612 kB)\n",
            "\u001b[K     |████████████████████████████████| 612 kB 42.6 MB/s \n",
            "\u001b[?25hRequirement already satisfied: cymem<2.1.0,>=2.0.2 in /usr/local/lib/python3.7/dist-packages (from spacy==2.0.18) (2.0.6)\n",
            "Requirement already satisfied: requests<3.0.0,>=2.13.0 in /usr/local/lib/python3.7/dist-packages (from spacy==2.0.18) (2.23.0)\n",
            "Collecting dill<0.3,>=0.2\n",
            "  Downloading dill-0.2.9.tar.gz (150 kB)\n",
            "\u001b[K     |████████████████████████████████| 150 kB 38.6 MB/s \n",
            "\u001b[?25hCollecting plac<1.0.0,>=0.9.6\n",
            "  Downloading plac-0.9.6-py2.py3-none-any.whl (20 kB)\n",
            "Collecting preshed<2.1.0,>=2.0.1\n",
            "  Downloading preshed-2.0.1-cp37-cp37m-manylinux1_x86_64.whl (82 kB)\n",
            "\u001b[K     |████████████████████████████████| 82 kB 342 kB/s \n",
            "\u001b[?25hRequirement already satisfied: numpy>=1.15.0 in /usr/local/lib/python3.7/dist-packages (from spacy==2.0.18) (1.21.6)\n",
            "Requirement already satisfied: murmurhash<1.1.0,>=0.28.0 in /usr/local/lib/python3.7/dist-packages (from spacy==2.0.18) (1.0.8)\n",
            "Requirement already satisfied: idna<3,>=2.5 in /usr/local/lib/python3.7/dist-packages (from requests<3.0.0,>=2.13.0->spacy==2.0.18) (2.10)\n",
            "Requirement already satisfied: certifi>=2017.4.17 in /usr/local/lib/python3.7/dist-packages (from requests<3.0.0,>=2.13.0->spacy==2.0.18) (2022.6.15)\n",
            "Requirement already satisfied: chardet<4,>=3.0.2 in /usr/local/lib/python3.7/dist-packages (from requests<3.0.0,>=2.13.0->spacy==2.0.18) (3.0.4)\n",
            "Requirement already satisfied: urllib3!=1.25.0,!=1.25.1,<1.26,>=1.21.1 in /usr/local/lib/python3.7/dist-packages (from requests<3.0.0,>=2.13.0->spacy==2.0.18) (1.24.3)\n",
            "Requirement already satisfied: six<2.0.0,>=1.10.0 in /usr/local/lib/python3.7/dist-packages (from thinc<6.13.0,>=6.12.1->spacy==2.0.18) (1.15.0)\n",
            "Collecting msgpack-numpy<0.4.4\n",
            "  Downloading msgpack_numpy-0.4.3.2-py2.py3-none-any.whl (5.2 kB)\n",
            "Requirement already satisfied: tqdm<5.0.0,>=4.10.0 in /usr/local/lib/python3.7/dist-packages (from thinc<6.13.0,>=6.12.1->spacy==2.0.18) (4.64.1)\n",
            "Collecting cytoolz<0.10,>=0.9.0\n",
            "  Downloading cytoolz-0.9.0.1.tar.gz (443 kB)\n",
            "\u001b[K     |████████████████████████████████| 443 kB 39.1 MB/s \n",
            "\u001b[?25hCollecting msgpack<0.6.0,>=0.5.6\n",
            "  Downloading msgpack-0.5.6.tar.gz (138 kB)\n",
            "\u001b[K     |████████████████████████████████| 138 kB 47.1 MB/s \n",
            "\u001b[?25hCollecting wrapt<1.11.0,>=1.10.0\n",
            "  Downloading wrapt-1.10.11.tar.gz (27 kB)\n",
            "Requirement already satisfied: toolz>=0.8.0 in /usr/local/lib/python3.7/dist-packages (from cytoolz<0.10,>=0.9.0->thinc<6.13.0,>=6.12.1->spacy==2.0.18) (0.12.0)\n",
            "Building wheels for collected packages: regex, dill, cytoolz, msgpack, wrapt\n",
            "  Building wheel for regex (setup.py) ... \u001b[?25l\u001b[?25hdone\n",
            "  Created wheel for regex: filename=regex-2018.1.10-cp37-cp37m-linux_x86_64.whl size=549190 sha256=27e408ad09002282f1331ab38c0db1d8d648a1ad2fa1a21418e939458de4f351\n",
            "  Stored in directory: /root/.cache/pip/wheels/ba/ec/25/0c2b801e792098f7dad5b76157b01be8d0719525c365773e7c\n",
            "  Building wheel for dill (setup.py) ... \u001b[?25l\u001b[?25hdone\n",
            "  Created wheel for dill: filename=dill-0.2.9-py3-none-any.whl size=77420 sha256=91f0bb8e0c62716ad9ebf9909f0c5138440d3d9b588b11a4b4271a86861abb01\n",
            "  Stored in directory: /root/.cache/pip/wheels/31/87/19/1fb8f037d75fdc0841c772ecdfd5fdf22f85300d25c73f66cb\n",
            "  Building wheel for cytoolz (setup.py) ... \u001b[?25l\u001b[?25hdone\n",
            "  Created wheel for cytoolz: filename=cytoolz-0.9.0.1-cp37-cp37m-linux_x86_64.whl size=1239703 sha256=e70edad0628f90bc2424607e5499b1ab44428b2db01784088033250dd1dc0fa8\n",
            "  Stored in directory: /root/.cache/pip/wheels/52/9f/8e/8d8bc15ed2c88ed4e784c603f641df40d19e8410b982766e4f\n",
            "  Building wheel for msgpack (setup.py) ... \u001b[?25l\u001b[?25hdone\n",
            "  Created wheel for msgpack: filename=msgpack-0.5.6-cp37-cp37m-linux_x86_64.whl size=298951 sha256=a24dd9f8f3e3b910130d0625966ae08387c7289bd5f1b8ef126af4b96e298814\n",
            "  Stored in directory: /root/.cache/pip/wheels/42/92/5b/708850ed8872c249ce8ace306b542e1099428491e6b613297b\n",
            "  Building wheel for wrapt (setup.py) ... \u001b[?25l\u001b[?25hdone\n",
            "  Created wheel for wrapt: filename=wrapt-1.10.11-cp37-cp37m-linux_x86_64.whl size=66073 sha256=baa57f7ac1062454ce8bf8e1b5cc00c6f2f224edcd29513943d43eae371a08dc\n",
            "  Stored in directory: /root/.cache/pip/wheels/b4/73/c0/df8f4b8bdfc554d2ba0823c8f80d566cabf702c858e2a49d7b\n",
            "Successfully built regex dill cytoolz msgpack wrapt\n",
            "Installing collected packages: msgpack, wrapt, preshed, plac, msgpack-numpy, dill, cytoolz, thinc, regex, spacy\n",
            "  Attempting uninstall: msgpack\n",
            "    Found existing installation: msgpack 1.0.4\n",
            "    Uninstalling msgpack-1.0.4:\n",
            "      Successfully uninstalled msgpack-1.0.4\n",
            "  Attempting uninstall: wrapt\n",
            "    Found existing installation: wrapt 1.14.1\n",
            "    Uninstalling wrapt-1.14.1:\n",
            "      Successfully uninstalled wrapt-1.14.1\n",
            "  Attempting uninstall: preshed\n",
            "    Found existing installation: preshed 3.0.7\n",
            "    Uninstalling preshed-3.0.7:\n",
            "      Successfully uninstalled preshed-3.0.7\n",
            "  Attempting uninstall: dill\n",
            "    Found existing installation: dill 0.3.5.1\n",
            "    Uninstalling dill-0.3.5.1:\n",
            "      Successfully uninstalled dill-0.3.5.1\n",
            "  Attempting uninstall: thinc\n",
            "    Found existing installation: thinc 8.1.0\n",
            "    Uninstalling thinc-8.1.0:\n",
            "      Successfully uninstalled thinc-8.1.0\n",
            "  Attempting uninstall: regex\n",
            "    Found existing installation: regex 2022.6.2\n",
            "    Uninstalling regex-2022.6.2:\n",
            "      Successfully uninstalled regex-2022.6.2\n",
            "  Attempting uninstall: spacy\n",
            "    Found existing installation: spacy 3.4.1\n",
            "    Uninstalling spacy-3.4.1:\n",
            "      Successfully uninstalled spacy-3.4.1\n",
            "\u001b[31mERROR: pip's dependency resolver does not currently take into account all the packages that are installed. This behaviour is the source of the following dependency conflicts.\n",
            "tensorflow 2.8.2+zzzcolab20220719082949 requires wrapt>=1.11.0, but you have wrapt 1.10.11 which is incompatible.\n",
            "nltk 3.7 requires regex>=2021.8.3, but you have regex 2018.1.10 which is incompatible.\n",
            "en-core-web-sm 3.4.0 requires spacy<3.5.0,>=3.4.0, but you have spacy 2.0.18 which is incompatible.\n",
            "distributed 2022.2.0 requires msgpack>=0.6.0, but you have msgpack 0.5.6 which is incompatible.\u001b[0m\n",
            "Successfully installed cytoolz-0.9.0.1 dill-0.2.9 msgpack-0.5.6 msgpack-numpy-0.4.3.2 plac-0.9.6 preshed-2.0.1 regex-2018.1.10 spacy-2.0.18 thinc-6.12.1 wrapt-1.10.11\n"
          ]
        }
      ],
      "source": [
        "!pip install spacy==2.0.18"
      ]
    },
    {
      "cell_type": "markdown",
      "metadata": {
        "id": "fGDt5kh-X7kO"
      },
      "source": [
        "### Imports\n"
      ]
    },
    {
      "cell_type": "code",
      "execution_count": null,
      "metadata": {
        "id": "SNSxFiLtD5pG"
      },
      "outputs": [],
      "source": [
        "import os\n",
        "import spacy \n",
        "import re\n",
        "import json\n",
        "import random\n",
        "import logging\n",
        "from sklearn.metrics import classification_report\n",
        "from sklearn.metrics import precision_recall_fscore_support\n",
        "from spacy.gold import GoldParse\n",
        "from spacy.scorer import Scorer\n",
        "from sklearn.metrics import accuracy_score"
      ]
    },
    {
      "cell_type": "markdown",
      "metadata": {
        "id": "snew6xiTzqQe"
      },
      "source": [
        "### Converting dataturks to spacy format\n"
      ]
    },
    {
      "cell_type": "code",
      "execution_count": null,
      "metadata": {
        "id": "4hpbzf4WEXCU"
      },
      "outputs": [],
      "source": [
        "#converting dataturks annotated data to spacy format to be \n",
        "#used as training data\n",
        "\n",
        "def convert_dataturks_to_spacy(dataturks_JSON_FilePath):\n",
        "    try:\n",
        "        training_data = []\n",
        "        lines=[]\n",
        "        with open(dataturks_JSON_FilePath, 'r') as f:\n",
        "            lines = f.readlines()\n",
        "\n",
        "        for line in lines:\n",
        "            #print(\"line=\",line)\n",
        "            data = json.loads(line)\n",
        "            text = data['content']\n",
        "            entities = []\n",
        "            for annotation in data['annotation']:\n",
        "                #only a single point in text annotation.\n",
        "                point = annotation['points'][0]\n",
        "                labels = annotation['label']\n",
        "                # handle both list of labels or a single label.\n",
        "                if not isinstance(labels, list):\n",
        "                    labels = [labels]\n",
        "\n",
        "                for label in labels:\n",
        "                    #print(\"label=\",label)\n",
        "                    #dataturks indices are both inclusive [start, end] but spacy is not [start, end)\n",
        "                    entities.append((point['start'], point['end'] + 1 ,label))\n",
        "\n",
        "\n",
        "            training_data.append((text, {\"entities\" : entities}))\n",
        "\n",
        "        return training_data\n",
        "    except Exception as e:\n",
        "        logging.exception(\"Unable to process \" + dataturks_JSON_FilePath + \"\\n\" + \"error = \" + str(e))\n",
        "        return None"
      ]
    },
    {
      "cell_type": "markdown",
      "metadata": {
        "id": "LvYScw-hmBKe"
      },
      "source": [
        "### Cleaning data\n"
      ]
    },
    {
      "cell_type": "code",
      "execution_count": null,
      "metadata": {
        "id": "TyYU3wnbIAtm"
      },
      "outputs": [],
      "source": [
        "############################Removes leading and trailing white spaces from entity spans.############################\n",
        "# https://github.com/explosion/spaCy/issues/3558\n",
        "def trim_entity_spans(data: list):\n",
        "    \"\"\"Removes leading and trailing white spaces from entity spans.\n",
        "\n",
        "    Args:\n",
        "        data (list): The data to be cleaned in spaCy JSON format.\n",
        "\n",
        "    Returns:\n",
        "        list: The cleaned data.\n",
        "    \"\"\"\n",
        "    invalid_span_tokens = re.compile(r'\\s')\n",
        "\n",
        "    cleaned_data = []\n",
        "    for text, annotations in data:\n",
        "        #print(text,annotations)\n",
        "        entities = annotations['entities']\n",
        "        valid_entities = []\n",
        "        for start, end, label in entities:\n",
        "            #print(\"start=\",start,\"end=\",end)\n",
        "            valid_start = start\n",
        "            valid_end = end\n",
        "            #print(\"text=\",text)\n",
        "            while valid_start < len(text) and invalid_span_tokens.match(text[valid_start]):valid_start += 1\n",
        "            while valid_end > 1 and invalid_span_tokens.match(text[valid_end-1]):valid_end -= 1\n",
        "            valid_entities.append([valid_start, valid_end, label])\n",
        "        cleaned_data.append([text, {'entities': valid_entities}])\n",
        "\n",
        "    return cleaned_data"
      ]
    },
    {
      "cell_type": "markdown",
      "metadata": {
        "id": "XT-Nvw0RYWA7"
      },
      "source": [
        "### Training the model\n"
      ]
    },
    {
      "cell_type": "code",
      "execution_count": null,
      "metadata": {
        "id": "_nWx5rMhEeL6"
      },
      "outputs": [],
      "source": [
        "################### Train Spacy NER.###########\n",
        "def train_spacy():\n",
        "    TRAIN_DATA = convert_dataturks_to_spacy(\"/content/drive/My Drive/five_class_entitydata/traindata_3withmyannotation.json\")\n",
        "    #print(\"OK1\")\n",
        "    TRAIN_DATA=trim_entity_spans(TRAIN_DATA)\n",
        "    #print(\"OK2\")\n",
        "    nlp = spacy.blank('en')  # create blank Language class\n",
        "    # create the built-in pipeline components and add them to the pipeline\n",
        "    # nlp.create_pipe works for built-ins that are registered with spaCy\n",
        "    # if 'tagger' not in nlp.pipe_names:\n",
        "    #      nlp.add_pipe(nlp.create_pipe('tagger'))\n",
        "    if 'ner' not in nlp.pipe_names:\n",
        "        ner = nlp.create_pipe('ner')\n",
        "        nlp.add_pipe(ner, last=True)\n",
        "\n",
        "       \n",
        "       \n",
        "    # add labels\n",
        "    for _, annotations in TRAIN_DATA:\n",
        "         for ent in annotations.get('entities'):\n",
        "            ner.add_label(ent[2])\n",
        "\n",
        "    # get names of other pipes to disable them during training\n",
        "    other_pipes = [pipe for pipe in nlp.pipe_names if pipe != 'ner']\n",
        "    with nlp.disable_pipes(*other_pipes):  # only train NER\n",
        "        optimizer = nlp.begin_training()\n",
        "        for itn in range(10):\n",
        "            print(\"Statring iteration \" + str(itn))\n",
        "            random.shuffle(TRAIN_DATA)\n",
        "            losses = {}\n",
        "            for text, annotations in TRAIN_DATA:\n",
        "                nlp.update(\n",
        "                    [text],  # batch of texts\n",
        "                    [annotations],  # batch of annotations\n",
        "                    drop=0.1,  # dropout - make it harder to memorise data\n",
        "                    sgd=optimizer,  # callable to update weights\n",
        "                    losses=losses)\n",
        "            print(losses)\n",
        "    return nlp"
      ]
    },
    {
      "cell_type": "code",
      "execution_count": null,
      "metadata": {
        "colab": {
          "base_uri": "https://localhost:8080/"
        },
        "id": "ISjYoCkqFlHE",
        "outputId": "abac9631-3e4f-4dac-dfc4-378543c6c3aa"
      },
      "outputs": [
        {
          "output_type": "stream",
          "name": "stdout",
          "text": [
            "Warning: Unnamed vectors -- this won't allow multiple vectors models to be loaded. (Shape: (0, 0))\n",
            "Statring iteration 0\n",
            "{'ner': 10693.723300623464}\n",
            "Statring iteration 1\n",
            "{'ner': 6045.237990541552}\n",
            "Statring iteration 2\n",
            "{'ner': 4287.5382039780325}\n",
            "Statring iteration 3\n",
            "{'ner': 3730.3322702509035}\n",
            "Statring iteration 4\n",
            "{'ner': 3032.364425171096}\n",
            "Statring iteration 5\n",
            "{'ner': 2394.790546561405}\n",
            "Statring iteration 6\n",
            "{'ner': 2087.9132011658985}\n",
            "Statring iteration 7\n",
            "{'ner': 1830.7260804357254}\n",
            "Statring iteration 8\n",
            "{'ner': 1697.6425553191766}\n",
            "Statring iteration 9\n",
            "{'ner': 1398.245892008394}\n"
          ]
        }
      ],
      "source": [
        "nlp_=train_spacy()"
      ]
    },
    {
      "cell_type": "markdown",
      "metadata": {
        "id": "dB2Au5AkYixS"
      },
      "source": [
        "### Saving the Trained model\n"
      ]
    },
    {
      "cell_type": "code",
      "execution_count": null,
      "metadata": {
        "id": "gqo__mEd0_-u"
      },
      "outputs": [],
      "source": [
        "# save model to output directory (with parcial cleaned data)\n",
        "def save_model(output_dir):\n",
        "      nlp_.to_disk(output_dir)\n",
        "      print(\"Saved model to\", output_dir)\n"
      ]
    },
    {
      "cell_type": "code",
      "execution_count": null,
      "metadata": {
        "colab": {
          "base_uri": "https://localhost:8080/"
        },
        "id": "-Gquu5l71TKl",
        "outputId": "75068986-977e-4c85-db25-adfb3d115e4f"
      },
      "outputs": [
        {
          "output_type": "stream",
          "name": "stdout",
          "text": [
            "Saved model to ./model2\n"
          ]
        }
      ],
      "source": [
        "output_dir='./model2'\n",
        "save_model(output_dir)"
      ]
    },
    {
      "cell_type": "markdown",
      "metadata": {
        "id": "gTACN2hIYrXI"
      },
      "source": [
        "### Loading the trained model instance\n"
      ]
    },
    {
      "cell_type": "code",
      "execution_count": null,
      "metadata": {
        "id": "ySM49vc027LO"
      },
      "outputs": [],
      "source": [
        " ###################loading the saved model################################\n",
        " output_dir='./model2'\n",
        " nlp2 = spacy.load(output_dir)"
      ]
    },
    {
      "cell_type": "code",
      "source": [
        "!ls"
      ],
      "metadata": {
        "colab": {
          "base_uri": "https://localhost:8080/"
        },
        "id": "C3Ya88EoS6Rn",
        "outputId": "df5ef38a-fb5c-49ca-ab7c-b504b80f5fd6"
      },
      "execution_count": null,
      "outputs": [
        {
          "output_type": "stream",
          "name": "stdout",
          "text": [
            " 3class_test_data.json\t\t\t   resume20.txt\n",
            "'3class_train_data .json'\t\t   resume21.txt\n",
            " cv\t\t\t\t\t   resume22.txt\n",
            " indeed_jobs_info_backend_developer.json   resume23.txt\n",
            " jobs\t\t\t\t\t   resume24.txt\n",
            " model1\t\t\t\t\t   resume25.txt\n",
            " model2\t\t\t\t\t   resume26.txt\n",
            " resume0.txt\t\t\t\t   resume27.txt\n",
            " resume10.txt\t\t\t\t   resume28.txt\n",
            " resume11.txt\t\t\t\t   resume2.txt\n",
            " resume12.txt\t\t\t\t   resume3.txt\n",
            " resume13.txt\t\t\t\t   resume4.txt\n",
            " resume14.txt\t\t\t\t   resume5.txt\n",
            " resume15.txt\t\t\t\t   resume6.txt\n",
            " resume16.txt\t\t\t\t   resume7.txt\n",
            " resume17.txt\t\t\t\t   resume8.txt\n",
            " resume18.txt\t\t\t\t   resume9.txt\n",
            " resume19.txt\t\t\t\t   traindata_3withmyannotation.json\n",
            " resume1.txt\n"
          ]
        }
      ]
    },
    {
      "cell_type": "markdown",
      "metadata": {
        "id": "GLLqzC6RXHwF"
      },
      "source": [
        "### Testing\n"
      ]
    },
    {
      "cell_type": "code",
      "execution_count": null,
      "metadata": {
        "id": "MQoJ9EhJIfu1"
      },
      "outputs": [],
      "source": [
        "##############################preparing the testdata########################\n",
        "examples = convert_dataturks_to_spacy('/content/drive/My Drive/resume-to-job-matcher-Spacy--master/five_class_entitydata/3class_test_data.json')\n",
        "examples=trim_entity_spans(examples)\n",
        "tp = 0\n",
        "tr = 0\n",
        "tf = 0\n",
        "\n",
        "ta = 0\n",
        "c = 0\n"
      ]
    },
    {
      "cell_type": "code",
      "source": [
        "\n",
        "\n",
        "#################testing the model######################\n",
        "nlp_=nlp2\n",
        "for text, annot in examples:\n",
        "\n",
        "    f = open(\"resume\"+str(c)+\".txt\", \"w\")\n",
        "    doc_to_test = nlp_(text)\n",
        "    d = {}\n",
        "    for ent in doc_to_test.ents:\n",
        "        d[ent.label_] = []\n",
        "    for ent in doc_to_test.ents:\n",
        "        d[ent.label_].append(ent.text)\n",
        "        \n",
        "    if 'Skills' in d:\n",
        "      skills_=d['Skills']    \n",
        "      print(f'resume {str(c)} skills {skills_}')\n",
        "    # print(d.keys())\n",
        "\n",
        "    #---------------------------      \n",
        "    for i in set(d.keys()):\n",
        "\n",
        "        f.write(\"\\n\\n\")\n",
        "        f.write(i + \":\"+\"\\n\")\n",
        "        for j in set(d[i]):\n",
        "            f.write(j.replace('\\n', '')+\"\\n\")\n",
        "    #-----------------------------\n",
        "    d = {}\n",
        "    for ent in doc_to_test.ents:\n",
        "        d[ent.label_] = [0, 0, 0, 0, 0, 0]\n",
        "    for ent in doc_to_test.ents:\n",
        "        doc_gold_text = nlp_.make_doc(text)\n",
        "        gold = GoldParse(doc_gold_text, entities=annot.get(\"entities\"))\n",
        "        y_true = [ent.label_ if ent.label_ in x else 'Not ' +\n",
        "                  ent.label_ for x in gold.ner]\n",
        "        y_pred = [x.ent_type_ if x.ent_type_ ==\n",
        "                  ent.label_ else 'Not '+ent.label_ for x in doc_to_test]\n",
        "        if(d[ent.label_][0] == 0):\n",
        "            # f.write(\"For Entity \"+ent.label_+\"\\n\")\n",
        "            #print(classification_report(y_true, y_pred)+\"\\n\")\n",
        "            (p, r, f, s) = precision_recall_fscore_support(\n",
        "                y_true, y_pred, average='weighted')\n",
        "            a = accuracy_score(y_true, y_pred)\n",
        "            #plot_confusion_matrix_(y_true,y_pred)\n",
        "            d[ent.label_][0] = 1\n",
        "            d[ent.label_][1] += p\n",
        "            d[ent.label_][2] += r\n",
        "            d[ent.label_][3] += f\n",
        "            d[ent.label_][4] += a\n",
        "            d[ent.label_][5] += 1\n",
        "            break\n",
        "    c += 1\n"
      ],
      "metadata": {
        "id": "mCAGpxysaolZ",
        "colab": {
          "base_uri": "https://localhost:8080/"
        },
        "outputId": "2b23a003-53e9-42cd-abda-cf3079a58ba7"
      },
      "execution_count": null,
      "outputs": [
        {
          "output_type": "stream",
          "name": "stdout",
          "text": [
            "resume 1 skills ['Machine Learning', 'Python', 'Matlab', 'SQL', 'Splunk', 'Tableau', 'Hadoop', 'ABAP', 'Web services']\n",
            "resume 2 skills ['Python', 'Python', 'Python', 'Perl', 'C', 'C++', 'Javascript', 'Hadoop', 'Jquery', 'Javascript', 'XML', 'HTML', 'Jquery', 'Perl', 'Apache', 'Jquery', 'Perl', 'Apache', 'Jquery', 'Python', 'XML', 'ms-access', 'Log Manager', 'Server Manager', 'Server Manager', 'Web Development', 'Data structures']\n",
            "resume 3 skills ['Machine Learning']\n",
            "resume 4 skills ['machine learning', 'Data Science', 'Python', 'Python', 'Machine Learning', 'Big Data-Learning', 'Hadoop']\n",
            "resume 5 skills ['Business/Data/Predictive/TextAnalytics', 'Data Analyst', 'System Analyst', 'System Engineer', 'SQL', 'Machine Learning']\n",
            "resume 6 skills ['ML', 'Python', 'Machine Learning', 'machine learning', 'Python', 'R', 'Kafka', 'HDFS', 'SQL', 'Python', 'Hive', 'SQL', 'Java', 'C#.NET', 'Big Data Ecosystem', 'SQL SERVER', 'Big Data Tools', 'Python', 'Machine Learning', 'Deep Learning', 'NLP', 'Text mining', 'HDFS', 'MySql', 'R', 'Python', 'data mining', 'Python', 'Python', 'Python', 'Machine learning', 'Machine Learning', 'Deep Learning', 'Data visualization', 'Data mining', 'machine learning', 'Python', 'R', 'Python', 'MySQL', 'HDFS']\n",
            "resume 7 skills ['Machine learning', 'Machine Learning', 'Machine Learning', 'Python', 'Java', 'Java']\n",
            "resume 8 skills ['Data Science', 'Machine Learning Modelling', 'machine learning', 'Python', 'Tableau', 'Python', 'Tableau', 'SQL', 'Machine Learning', 'machine learning', 'Python', 'Python', 'Tableau', 'SQL']\n",
            "resume 9 skills ['Image Processing', 'Machine Learning', 'Computer Vision', 'Machine vision', 'Machine vision)', 'VC++', 'C++', 'Python', 'C++', 'Python', 'VC++', 'C++', 'C/C++', 'Machine Learning', 'Machine Learning', 'Tesseract', 'Machine Learning', 'Data Analysis', 'Machine Learning', 'Tesseract', 'C++', 'system testing', 'Machine Learning']\n",
            "resume 10 skills ['Python', 'Javascript', 'AngularJS', 'HTML', 'CSS', 'Python', 'Automation testing', 'Javascript', 'AngularJS', 'CSS']\n",
            "resume 11 skills ['Deep Learning', 'Deep Learning', 'Machine learning', 'Machine Learning', 'Machine learning', 'Machine Learning', 'Machine Learning', 'Deep Learning', 'Python', 'R programming', 'Python', 'Machine Learning Techniques', 'Python', 'Python']\n",
            "resume 12 skills ['machine learning', 'Data Analytics Tool', 'data mining                    \\n\\n', 'Data/Text Mining', 'Deep Learning', 'Machine Learning', 'data mining techniques']\n",
            "resume 13 skills ['R / Python', 'Python', 'Hive', 'Machine Learning', 'COBOL', 'JCL', 'Data Analyst']\n",
            "resume 14 skills ['Python', 'Machine Learning']\n",
            "resume 15 skills ['Tableau', 'Python', 'SAS', 'Machine Learning Techniques']\n",
            "resume 16 skills ['Python', 'Python', 'JQuery', 'MySQL']\n",
            "resume 17 skills ['Python', 'Machine Learning', 'Python programming', 'Machine learning', 'Python', 'Machine Learning(Linear', 'machine learning', 'Python', 'Python']\n",
            "resume 18 skills ['BUSINESS (INDIANA UNIVERSITY) 1 year Program', 'Machine Learning', 'R', 'Python', 'Tableau', 'R', 'Tableau', 'R', 'Python', 'Oracle', 'Python', 'Data Protection', 'Python', 'Python']\n",
            "resume 20 skills ['Python', 'Python', 'XML', 'C#', 'JavaScript', 'CSS']\n",
            "resume 21 skills ['IBM Watson technologies', 'NLC-Natural Language classifier)', 'IBM Watson', 'SQL', 'IBM Watson', 'SQL Server Developer']\n",
            "resume 22 skills ['Mainframe', 'Machine Learning', 'SAS/SQL', 'SAS/PROC', 'SAS/MACRO', 'Machine Learning', 'Machine Learning', 'Machine Learning', 'C-Programming', 'SQL Server', 'Oracle', 'Machine Learning', 'Machine Learning', 'SAS', 'Machine Learning']\n",
            "resume 23 skills ['Python', 'R', 'Django', 'SQL', 'machine learning', 'machine learning techniques', 'machine learning', 'machine learning']\n",
            "resume 24 skills ['R', 'Machine Learning', 'Machine learning', 'Machine Learning', 'Machine Learning']\n",
            "resume 25 skills ['machine learning', 'machine learning', 'Machine Learning', 'Data wrangling', 'machine learning']\n",
            "resume 26 skills ['SON', 'Tableau', 'R', 'R', 'HTML', 'CSS', 'Data Warehousing', 'Machine Learning']\n",
            "resume 27 skills ['R Programming', 'Machine Learning', 'SQL']\n",
            "resume 28 skills ['C CTC-5.5 LPA', 'R Programming', 'Unix Scripting', 'SAS', 'R programming']\n"
          ]
        }
      ]
    },
    {
      "cell_type": "code",
      "execution_count": null,
      "metadata": {
        "colab": {
          "base_uri": "https://localhost:8080/"
        },
        "id": "k2ARtiTSNrFK",
        "outputId": "e905fc8f-60ee-4e22-8513-cdc312420bc4"
      },
      "outputs": [
        {
          "output_type": "stream",
          "name": "stdout",
          "text": [
            "For Entity Name\n",
            "\n",
            "2396 2396\n",
            "For Entity Education\n",
            "\n",
            "2396 2396\n",
            "For Entity Location\n",
            "\n",
            "2396 2396\n",
            "resume 30 skills ['Machine Learning', 'Python', 'Matlab', 'SQL', 'Splunk', 'Tableau', 'Hadoop', 'ABAP', 'Web services']\n",
            "For Entity Name\n",
            "\n",
            "1148 1148\n",
            "For Entity Skills\n",
            "\n",
            "1148 1148\n",
            "For Entity Location\n",
            "\n",
            "1148 1148\n"
          ]
        },
        {
          "output_type": "stream",
          "name": "stderr",
          "text": [
            "/usr/local/lib/python3.7/dist-packages/sklearn/metrics/_classification.py:1318: UndefinedMetricWarning: Recall and F-score are ill-defined and being set to 0.0 in labels with no true samples. Use `zero_division` parameter to control this behavior.\n",
            "  _warn_prf(average, modifier, msg_start, len(result))\n"
          ]
        },
        {
          "output_type": "stream",
          "name": "stdout",
          "text": [
            "resume 31 skills ['Python', 'Python', 'Python', 'Perl', 'C', 'C++', 'Javascript', 'Hadoop', 'Jquery', 'Javascript', 'XML', 'HTML', 'Jquery', 'Perl', 'Apache', 'Jquery', 'Perl', 'Apache', 'Jquery', 'Python', 'XML', 'ms-access', 'Log Manager', 'Server Manager', 'Server Manager', 'Web Development', 'Data structures']\n",
            "For Entity Name\n",
            "\n",
            "2111 2111\n",
            "For Entity Skills\n",
            "\n",
            "2111 2111\n"
          ]
        },
        {
          "output_type": "stream",
          "name": "stderr",
          "text": [
            "/usr/local/lib/python3.7/dist-packages/sklearn/metrics/_classification.py:1318: UndefinedMetricWarning: Recall and F-score are ill-defined and being set to 0.0 in labels with no true samples. Use `zero_division` parameter to control this behavior.\n",
            "  _warn_prf(average, modifier, msg_start, len(result))\n"
          ]
        },
        {
          "output_type": "stream",
          "name": "stdout",
          "text": [
            "For Entity Education\n",
            "\n",
            "2111 2111\n",
            "For Entity Location\n",
            "\n",
            "2111 2111\n",
            "resume 32 skills ['Machine Learning']\n",
            "For Entity Name\n",
            "\n",
            "891 891\n",
            "For Entity Location\n",
            "\n",
            "891 891\n"
          ]
        },
        {
          "output_type": "stream",
          "name": "stderr",
          "text": [
            "/usr/local/lib/python3.7/dist-packages/sklearn/metrics/_classification.py:1318: UndefinedMetricWarning: Recall and F-score are ill-defined and being set to 0.0 in labels with no true samples. Use `zero_division` parameter to control this behavior.\n",
            "  _warn_prf(average, modifier, msg_start, len(result))\n"
          ]
        },
        {
          "output_type": "stream",
          "name": "stdout",
          "text": [
            "For Entity Skills\n",
            "\n",
            "891 891\n",
            "resume 33 skills ['machine learning', 'Data Science', 'Python', 'Python', 'Machine Learning', 'Big Data-Learning', 'Hadoop']\n",
            "For Entity Name\n",
            "\n",
            "1442 1442\n",
            "For Entity Skills\n",
            "\n",
            "1442 1442\n",
            "For Entity Location\n",
            "\n",
            "1442 1442\n",
            "resume 34 skills ['Business/Data/Predictive/TextAnalytics', 'Data Analyst', 'System Analyst', 'System Engineer', 'SQL', 'Machine Learning']\n",
            "For Entity Skills\n",
            "\n",
            "1447 1447\n",
            "For Entity Location\n",
            "\n",
            "1447 1447\n",
            "resume 35 skills ['ML', 'Python', 'Machine Learning', 'machine learning', 'Python', 'R', 'Kafka', 'HDFS', 'SQL', 'Python', 'Hive', 'SQL', 'Java', 'C#.NET', 'Big Data Ecosystem', 'SQL SERVER', 'Big Data Tools', 'Python', 'Machine Learning', 'Deep Learning', 'NLP', 'Text mining', 'HDFS', 'MySql', 'R', 'Python', 'data mining', 'Python', 'Python', 'Python', 'Machine learning', 'Machine Learning', 'Deep Learning', 'Data visualization', 'Data mining', 'machine learning', 'Python', 'R', 'Python', 'MySQL', 'HDFS']\n",
            "For Entity Name\n",
            "\n",
            "2831 2831\n",
            "For Entity Skills\n",
            "\n",
            "2831 2831\n",
            "For Entity Location\n",
            "\n",
            "2831 2831\n",
            "resume 36 skills ['Machine learning', 'Machine Learning', 'Machine Learning', 'Python', 'Java', 'Java']\n",
            "For Entity Name\n",
            "\n",
            "1334 1334\n",
            "For Entity Skills\n",
            "\n",
            "1334 1334\n"
          ]
        },
        {
          "output_type": "stream",
          "name": "stderr",
          "text": [
            "/usr/local/lib/python3.7/dist-packages/sklearn/metrics/_classification.py:1318: UndefinedMetricWarning: Recall and F-score are ill-defined and being set to 0.0 in labels with no true samples. Use `zero_division` parameter to control this behavior.\n",
            "  _warn_prf(average, modifier, msg_start, len(result))\n",
            "/usr/local/lib/python3.7/dist-packages/sklearn/metrics/_classification.py:1318: UndefinedMetricWarning: Recall and F-score are ill-defined and being set to 0.0 in labels with no true samples. Use `zero_division` parameter to control this behavior.\n",
            "  _warn_prf(average, modifier, msg_start, len(result))\n"
          ]
        },
        {
          "output_type": "stream",
          "name": "stdout",
          "text": [
            "For Entity Location\n",
            "\n",
            "1334 1334\n",
            "For Entity Education\n",
            "\n",
            "1334 1334\n",
            "resume 37 skills ['Data Science', 'Machine Learning Modelling', 'machine learning', 'Python', 'Tableau', 'Python', 'Tableau', 'SQL', 'Machine Learning', 'machine learning', 'Python', 'Python', 'Tableau', 'SQL']\n",
            "For Entity Name\n",
            "\n",
            "1270 1270\n",
            "For Entity Skills\n",
            "\n",
            "1270 1270\n",
            "For Entity Location\n",
            "\n",
            "1270 1270\n",
            "resume 38 skills ['Image Processing', 'Machine Learning', 'Computer Vision', 'Machine vision', 'Machine vision)', 'VC++', 'C++', 'Python', 'C++', 'Python', 'VC++', 'C++', 'C/C++', 'Machine Learning', 'Machine Learning', 'Tesseract', 'Machine Learning', 'Data Analysis', 'Machine Learning', 'Tesseract', 'C++', 'system testing', 'Machine Learning']\n",
            "For Entity Name\n",
            "\n",
            "1584 1584\n",
            "For Entity Skills\n",
            "\n",
            "1584 1584\n"
          ]
        },
        {
          "output_type": "stream",
          "name": "stderr",
          "text": [
            "/usr/local/lib/python3.7/dist-packages/sklearn/metrics/_classification.py:1318: UndefinedMetricWarning: Recall and F-score are ill-defined and being set to 0.0 in labels with no true samples. Use `zero_division` parameter to control this behavior.\n",
            "  _warn_prf(average, modifier, msg_start, len(result))\n"
          ]
        },
        {
          "output_type": "stream",
          "name": "stdout",
          "text": [
            "For Entity Location\n",
            "\n",
            "1584 1584\n",
            "resume 39 skills ['Python', 'Javascript', 'AngularJS', 'HTML', 'CSS', 'Python', 'Automation testing', 'Javascript', 'AngularJS', 'CSS']\n",
            "For Entity Skills\n",
            "\n",
            "1243 1243\n"
          ]
        },
        {
          "output_type": "stream",
          "name": "stderr",
          "text": [
            "/usr/local/lib/python3.7/dist-packages/sklearn/metrics/_classification.py:1318: UndefinedMetricWarning: Recall and F-score are ill-defined and being set to 0.0 in labels with no true samples. Use `zero_division` parameter to control this behavior.\n",
            "  _warn_prf(average, modifier, msg_start, len(result))\n"
          ]
        },
        {
          "output_type": "stream",
          "name": "stdout",
          "text": [
            "For Entity Location\n",
            "\n",
            "1243 1243\n",
            "For Entity Education\n",
            "\n",
            "1243 1243\n",
            "resume 40 skills ['Deep Learning', 'Deep Learning', 'Machine learning', 'Machine Learning', 'Machine learning', 'Machine Learning', 'Machine Learning', 'Deep Learning', 'Python', 'R programming', 'Python', 'Machine Learning Techniques', 'Python', 'Python']\n",
            "For Entity Name\n",
            "\n",
            "1566 1566\n",
            "For Entity Skills\n",
            "\n",
            "1566 1566\n",
            "For Entity Education\n",
            "\n",
            "1566 1566\n",
            "For Entity Location\n",
            "\n",
            "1566 1566\n"
          ]
        },
        {
          "output_type": "stream",
          "name": "stderr",
          "text": [
            "/usr/local/lib/python3.7/dist-packages/sklearn/metrics/_classification.py:1318: UndefinedMetricWarning: Recall and F-score are ill-defined and being set to 0.0 in labels with no true samples. Use `zero_division` parameter to control this behavior.\n",
            "  _warn_prf(average, modifier, msg_start, len(result))\n"
          ]
        },
        {
          "output_type": "stream",
          "name": "stdout",
          "text": [
            "resume 41 skills ['machine learning', 'Data Analytics Tool', 'data mining                    \\n\\n', 'Data/Text Mining', 'Deep Learning', 'Machine Learning', 'data mining techniques']\n",
            "For Entity Skills\n",
            "\n",
            "1756 1756\n",
            "For Entity Location\n",
            "\n",
            "1756 1756\n",
            "resume 42 skills ['R / Python', 'Python', 'Hive', 'Machine Learning', 'COBOL', 'JCL', 'Data Analyst']\n",
            "For Entity Skills\n",
            "\n",
            "866 866\n",
            "resume 43 skills ['Python', 'Machine Learning']\n",
            "For Entity Name\n",
            "\n",
            "619 619\n",
            "For Entity Location\n",
            "\n",
            "619 619\n",
            "For Entity Skills\n",
            "\n",
            "619 619\n",
            "resume 44 skills ['Tableau', 'Python', 'SAS', 'Machine Learning Techniques']\n",
            "For Entity Location\n",
            "\n",
            "956 956\n",
            "For Entity Skills\n",
            "\n",
            "956 956\n",
            "resume 45 skills ['Python', 'Python', 'JQuery', 'MySQL']\n",
            "For Entity Name\n",
            "\n",
            "1425 1425\n",
            "For Entity Location\n",
            "\n",
            "1425 1425\n",
            "For Entity Skills\n",
            "\n",
            "1425 1425\n",
            "resume 46 skills ['Python', 'Machine Learning', 'Python programming', 'Machine learning', 'Python', 'Machine Learning(Linear', 'machine learning', 'Python', 'Python']\n",
            "For Entity Name\n",
            "\n",
            "986 986\n",
            "For Entity Location\n",
            "\n",
            "986 986\n",
            "For Entity Skills\n",
            "\n",
            "986 986\n",
            "resume 47 skills ['BUSINESS (INDIANA UNIVERSITY) 1 year Program', 'Machine Learning', 'R', 'Python', 'Tableau', 'R', 'Tableau', 'R', 'Python', 'Oracle', 'Python', 'Data Protection', 'Python', 'Python']\n",
            "For Entity Name\n",
            "\n",
            "1040 1040\n",
            "For Entity Skills\n",
            "\n",
            "1040 1040\n",
            "For Entity Location\n",
            "\n",
            "1040 1040\n",
            "For Entity Name\n",
            "\n",
            "1710 1710\n",
            "For Entity Location\n",
            "\n",
            "1710 1710\n",
            "resume 49 skills ['Python', 'Python', 'XML', 'C#', 'JavaScript', 'CSS']\n",
            "For Entity Name\n",
            "\n",
            "1977 1977\n",
            "For Entity Skills\n",
            "\n",
            "1977 1977\n",
            "For Entity Location\n",
            "\n",
            "1977 1977\n",
            "resume 50 skills ['IBM Watson technologies', 'NLC-Natural Language classifier)', 'IBM Watson', 'SQL', 'IBM Watson', 'SQL Server Developer']\n",
            "For Entity Name\n",
            "\n",
            "2020 2020\n",
            "For Entity Skills\n",
            "\n",
            "2020 2020\n",
            "resume 51 skills ['Mainframe', 'Machine Learning', 'SAS/SQL', 'SAS/PROC', 'SAS/MACRO', 'Machine Learning', 'Machine Learning', 'Machine Learning', 'C-Programming', 'SQL Server', 'Oracle', 'Machine Learning', 'Machine Learning', 'SAS', 'Machine Learning']\n",
            "For Entity Name\n",
            "\n",
            "1603 1603\n",
            "For Entity Skills\n",
            "\n",
            "1603 1603\n",
            "For Entity Location\n",
            "\n",
            "1603 1603\n",
            "For Entity Education\n",
            "\n",
            "1603 1603\n",
            "resume 52 skills ['Python', 'R', 'Django', 'SQL', 'machine learning', 'machine learning techniques', 'machine learning', 'machine learning']\n",
            "For Entity Skills\n",
            "\n",
            "699 699\n",
            "resume 53 skills ['R', 'Machine Learning', 'Machine learning', 'Machine Learning', 'Machine Learning']\n",
            "For Entity Name\n",
            "\n",
            "1167 1167\n",
            "For Entity Skills\n",
            "\n",
            "1167 1167\n",
            "resume 54 skills ['machine learning', 'machine learning', 'Machine Learning', 'Data wrangling', 'machine learning']\n",
            "For Entity Name\n",
            "\n",
            "798 798\n",
            "For Entity Skills\n",
            "\n",
            "798 798\n",
            "resume 55 skills ['SON', 'Tableau', 'R', 'R', 'HTML', 'CSS', 'Data Warehousing', 'Machine Learning']\n",
            "For Entity Name\n",
            "\n",
            "1304 1304\n",
            "For Entity Skills\n",
            "\n",
            "1304 1304\n"
          ]
        },
        {
          "output_type": "stream",
          "name": "stderr",
          "text": [
            "/usr/local/lib/python3.7/dist-packages/sklearn/metrics/_classification.py:1318: UndefinedMetricWarning: Recall and F-score are ill-defined and being set to 0.0 in labels with no true samples. Use `zero_division` parameter to control this behavior.\n",
            "  _warn_prf(average, modifier, msg_start, len(result))\n"
          ]
        },
        {
          "output_type": "stream",
          "name": "stdout",
          "text": [
            "For Entity Location\n",
            "\n",
            "1304 1304\n",
            "resume 56 skills ['R Programming', 'Machine Learning', 'SQL']\n",
            "For Entity Skills\n",
            "\n",
            "1485 1485\n",
            "For Entity Name\n",
            "\n",
            "1485 1485\n",
            "resume 57 skills ['C CTC-5.5 LPA', 'R Programming', 'Unix Scripting', 'SAS', 'R programming']\n",
            "For Entity Name\n",
            "\n",
            "872 872\n",
            "For Entity Skills\n",
            "\n",
            "872 872\n",
            "For Entity Location\n",
            "\n",
            "872 872\n",
            "For Entity Education\n",
            "\n",
            "872 872\n"
          ]
        }
      ],
      "source": [
        "#################testing the model######################\n",
        "nlp_=nlp2\n",
        "for text, annot in examples:\n",
        "\n",
        "    f = open(\"resume\"+str(c)+\".txt\", \"w\")\n",
        "    doc_to_test = nlp_(text)\n",
        "    d = {}\n",
        "    for ent in doc_to_test.ents:\n",
        "        d[ent.label_] = []\n",
        "    for ent in doc_to_test.ents:\n",
        "        d[ent.label_].append(ent.text)\n",
        "        \n",
        "    if 'Skills' in d:\n",
        "      skills_=d['Skills']    \n",
        "      print(f'resume {str(c)} skills {skills_}')\n",
        "    # print(d.keys())\n",
        "\n",
        "    #---------------------------      \n",
        "    for i in set(d.keys()):\n",
        "\n",
        "        f.write(\"\\n\\n\")\n",
        "        f.write(i + \":\"+\"\\n\")\n",
        "        for j in set(d[i]):\n",
        "            f.write(j.replace('\\n', '')+\"\\n\")\n",
        "    #-----------------------------\n",
        "    d = {}\n",
        "    for ent in doc_to_test.ents:\n",
        "        d[ent.label_] = [0, 0, 0, 0, 0, 0]\n",
        "    for ent in doc_to_test.ents:\n",
        "        doc_gold_text = nlp_.make_doc(text)\n",
        "        gold = GoldParse(doc_gold_text, entities=annot.get(\"entities\"))\n",
        "        y_true = [ent.label_ if ent.label_ in x else 'Not ' +\n",
        "                  ent.label_ for x in gold.ner]\n",
        "        y_pred = [x.ent_type_ if x.ent_type_ ==\n",
        "                  ent.label_ else 'Not '+ent.label_ for x in doc_to_test]\n",
        "        if(d[ent.label_][0] == 0):\n",
        "            # f.write(\"For Entity \"+ent.label_+\"\\n\")\n",
        "            # f.write(classification_report(y_true, y_pred)+\"\\n\")\n",
        "            (p, r, f, s) = precision_recall_fscore_support(\n",
        "                y_true, y_pred, average='weighted')\n",
        "            a = accuracy_score(y_true, y_pred)\n",
        "            print(\"For Entity \"+ent.label_+\"\\n\")\n",
        "            print(len(y_true),len(y_pred))\n",
        "            #plot_confusion_matrix_(y_true,y_pred)\n",
        "            d[ent.label_][0] = 1\n",
        "            d[ent.label_][1] += p\n",
        "            d[ent.label_][2] += r\n",
        "            d[ent.label_][3] += f\n",
        "            d[ent.label_][4] += a\n",
        "            d[ent.label_][5] += 1\n",
        "    c += 1"
      ]
    },
    {
      "cell_type": "markdown",
      "metadata": {
        "id": "wzAME085ozSv"
      },
      "source": [
        "### Validating the pridiction\n"
      ]
    },
    {
      "cell_type": "code",
      "execution_count": null,
      "metadata": {
        "colab": {
          "base_uri": "https://localhost:8080/"
        },
        "id": "Cd38QyKmNdjJ",
        "outputId": "ea49768f-5f80-4c1d-94dc-c2d226644314"
      },
      "outputs": [
        {
          "output_type": "stream",
          "name": "stdout",
          "text": [
            "\n",
            " For Entity Name\n",
            "\n",
            "Accuracy : 100.0%\n",
            "Precision : 1.0\n",
            "Recall : 1.0\n",
            "F-score : 1.0\n",
            "\n",
            " For Entity Location\n",
            "\n",
            "Accuracy : 99.88532110091744%\n",
            "Precision : 0.9988545276440661\n",
            "Recall : 0.9988532110091743\n",
            "F-score : 0.9986624088584894\n",
            "\n",
            " For Entity Skills\n",
            "\n",
            "Accuracy : 98.85321100917432%\n",
            "Precision : 0.9855690220049761\n",
            "Recall : 0.9885321100917431\n",
            "F-score : 0.9852820854703445\n",
            "\n",
            " For Entity Education\n",
            "\n",
            "Accuracy : 100.0%\n",
            "Precision : 1.0\n",
            "Recall : 1.0\n",
            "F-score : 1.0\n"
          ]
        }
      ],
      "source": [
        "###########################validating the model##########################\n",
        "for i in d:\n",
        "    print(\"\\n For Entity \"+i+\"\\n\")\n",
        "    print(\"Accuracy : \"+str((d[i][4]/d[i][5])*100)+\"%\")\n",
        "    print(\"Precision : \"+str(d[i][1]/d[i][5]))\n",
        "    print(\"Recall : \"+str(d[i][2]/d[i][5]))\n",
        "    print(\"F-score : \"+str(d[i][3]/d[i][5]))"
      ]
    },
    {
      "cell_type": "markdown",
      "metadata": {
        "id": "SPR0t30luyrq"
      },
      "source": [
        "### matcher\n"
      ]
    },
    {
      "cell_type": "code",
      "execution_count": null,
      "metadata": {
        "id": "eziwDJ1Fu64i"
      },
      "outputs": [],
      "source": [
        "import pandas as pd\n",
        "from pathlib import Path\n",
        "\n",
        "nlp_=nlp2\n",
        "\n",
        "def find_skills(text):\n",
        "  d = {}\n",
        "  docx=nlp_(text)\n",
        "  for ent in docx.ents:\n",
        "    d[ent.label_] = []\n",
        "  for ent in docx.ents:\n",
        "    d[ent.label_].append(ent.text)\n",
        "  if 'Skills' in d:\n",
        "    skills_=d['Skills']    \n",
        "    return skills_\n",
        "  else:\n",
        "    return None"
      ]
    },
    {
      "cell_type": "markdown",
      "metadata": {
        "id": "T1AXwIq_ZS0G"
      },
      "source": [
        "### Creating job list\n"
      ]
    },
    {
      "cell_type": "code",
      "execution_count": null,
      "metadata": {
        "id": "2jhdeNPzvDBe",
        "colab": {
          "base_uri": "https://localhost:8080/"
        },
        "outputId": "66030873-ee08-4aa4-b1f5-3aa11cd9187a"
      },
      "outputs": [
        {
          "output_type": "stream",
          "name": "stdout",
          "text": [
            "{'name': 'phpdeveloper.json', 'skills': ['MongoDB', 'HTML', 'CSS', 'Angular', 'Python', 'PHP', 'PHP', 'BSc/MSc', 'JAVA', 'jQuery', 'PHP', 'MongoDB', 'PHP', 'MongoDB', 'CSS', 'MySQL', 'JAVA', 'jQuery', 'PHP', 'MySQL', 'JAVA', 'jQuery', ['PHP', 'Laravel', 'CodeIgniter', 'Symfony', 'Zend', 'Phalcon', 'CakePHP', 'Yii', 'FuelPHP', 'React', 'Vue', 'Angular', 'Ember', 'Backbone']]}\n",
            "{'name': 'javadeveloper.json', 'skills': ['C++', 'Java', 'Java', 'C++', 'Machine Learning', 'Deep Learning techniques (and', 'machine-learning', 'Machine Learning', 'Machine Learning/ Deep Learning', 'Image Processing', 'Data Science', 'data modeling', 'machine-learning', 'Deep Learning', 'Python', 'Java', 'Matlab', 'Python', 'Big Data frameworks', 'C++', 'XML', 'Java/J2EE', 'Java', 'Java', 'Web services', 'Micro Services', 'SQL', 'Java Development', 'MVC', 'Python', 'Python', 'JAVA', 'jQuery', 'JDBC', 'XML', 'Web Services', 'Hadoop', 'mongoDB', 'Cloud services', 'AWS', 'Google Cloud', 'ETL/Data Warehouse architectures', 'Java software development', 'Java', 'MongoDB', 'PHP', 'MongoDB', 'CSS', 'MySQL', 'JAVA', 'jQuery', 'java', 'Core JAVA', 'Java programming', 'Java', 'Node.js', 'Python', 'C++', 'PHP', 'MySQL', 'JAVA', 'jQuery', 'Java', 'Java', 'MVC', 'Data)', 'SOAP/XML', 'JAX WS', 'Java', 'Java/SQL', ['IHS', 'WAS', 'Java EE', 'SQL Server', '.NET core', 'C#', 'ASP.NET', 'Rdlc', 'Linq', 'Sql', 'Web Api', 'Mvc', 'Javascript', 'Web Services', 'Oracle', 'MS SQL']]}\n",
            "{'name': 'datascientist.json', 'skills': ['AI/ML', 'Bachelors/Masters/PhD degree', 'SQL', 'Python', 'Machine Learning', 'Deep Learning techniques (and', 'machine-learning', 'Machine Learning', 'Machine Learning/ Deep Learning', 'Image Processing', 'Data Science', 'data modeling', 'machine-learning', 'Deep Learning', 'Python', 'Java', 'Matlab', 'Python', 'Big Data frameworks', 'AI/ML', 'Bachelors/Masters/PhD degree', 'SQL', 'Python', 'Python', 'RDBMS', 'Python', 'Python', 'Tableau', 'MySQL', 'SQL Server', 'Breakdown Structure', 'Business Intelligence', ['Data Science', 'Python', 'Machine Learning', 'SAS', 'Java', 'Scala', 'Hadoop', 'Hive', 'Bigdata', 'Programming', 'SQL server reporting', 'Msbi Ssis', 'Ssrs', 'Msbi', 'Sql Reporting', 'Artificial Intelligence', 'Pandas', 'Pyspark', 'Sklearn', 'Flask', 'Django', 'Map Reduce', 'Parametric Design', 'Modeling', 'Regression', 'Patterns', 'Data Mining', 'Text Mining', 'Oops', 'Deep Learning', 'Web Analytics', 'Time Series', 'Regression', 'Tensorflow', 'Azure', 'Linear Regression', 'Logistic Regression', 'Decision Tree', 'Random Forest', 'Data Structure', 'Computer Vision']]}\n",
            "{'name': 'backenddeveloper.json', 'skills': ['Python', 'Python', 'Python', 'Python', 'PHP', 'MySQL', 'JAVA', 'jQuery', 'Data Analytics', 'sources services', 'Python', 'RDBMS', 'Regular', 'programming', 'Java', 'Java', 'MVC', 'Data)', 'SOAP/XML', 'JAX WS', ['MySQL', 'PostgreSQL', 'Microsoft Access', 'SQL Server', 'FileMaker', 'Oracle', 'RDBMS', 'dBASE', 'Clipper', 'FoxPro', 'Firebase', 'Mongodb', 'MySQL', 'PostgreSQL', 'Microsoft Access', 'SQL Server', 'FileMaker', 'Oracle', 'RDBMS', 'dBASE', 'Clipper', 'FoxPro', 'Firebase', 'Mongodb', 'MySQL', 'PostgreSQL', 'Microsoft Access', 'SQL Server', 'FileMaker', 'Oracle', 'RDBMS', 'dBASE', 'Clipper', 'FoxPro', 'Firebase', 'Mongodb', 'MySQL', 'PostgreSQL', 'Microsoft Access', 'SQL Server', 'FileMaker', 'Oracle', 'RDBMS', 'dBASE', 'Clipper', 'FoxPro', 'Firebase', 'Mongodb', 'MySQL', 'PostgreSQL', 'Microsoft Access', 'SQL Server', 'FileMaker', 'Oracle', 'RDBMS', 'dBASE', 'Clipper', 'FoxPro', 'Firebase', 'Mongodb', 'MySQL', 'PostgreSQL', 'Microsoft Access', 'SQL Server', 'FileMaker', 'Oracle', 'RDBMS', 'dBASE', 'Clipper', 'FoxPro', 'Firebase', 'Mongodb', 'MySQL', 'PostgreSQL', 'Microsoft Access', 'SQL Server', 'FileMaker', 'Oracle', 'RDBMS', 'dBASE', 'Clipper', 'FoxPro', 'Firebase', 'Mongodb', 'MySQL', 'PostgreSQL', 'Microsoft Access', 'SQL Server', 'FileMaker', 'Oracle', 'RDBMS', 'dBASE', 'Clipper', 'FoxPro', 'Firebase', 'Mongodb']]}\n",
            "{'name': 'dataengineer.json', 'skills': ['Chemical Engineering', 'Project Engineering Manager', 'Project Procurement Manager', 'Project Quality Manager', 'Amazon Web Services', 'SQL', 'Oracle', 'Python', 'JavaScript', 'Bachelor / Master', 'Microsoft Word', 'Product Quality Evaluation Manager', 'C++', 'XML', 'SQL', 'HTML', 'CSS', 'Angular', 'Python', 'PHP', 'PHP', 'BSc/MSc', 'and Cloud Data Integration technologies', 'Data Virtualization.\\n\\nYour mission:', 'JDBC', 'XML', 'Web Services', 'Hadoop', 'mongoDB', 'Cloud services', 'AWS', 'Google Cloud', 'ETL/Data Warehouse architectures', 'Java software development', 'data modeling', 'Oracle', 'MySQL', 'PostgreSQL)', 'Mechanical Engineering', 'Matlab/LabView', 'Unix', 'Cloud based services', ['java', 'J2EE', 'Oracle Fusion', 'Oracle Cloud', 'Salesforce', 'Devops Android', 'Business Analyst', 'UI Developer', 'DBAs', 'Embedded Systems', '.NET', 'Hadoop', 'SQL Developer', 'Big Data', 'Tableau', 'Networking', 'Etl', 'Informatica', 'Ios', 'Quality Analyst', 'Project Manager', 'Python', 'java', 'J2EE', 'Oracle Fusion', 'Oracle Cloud', 'Salesforce', 'Devops Android', 'Business Analyst', 'UI Developer', 'DBAs', 'Embedded Systems', '.NET', 'Hadoop', 'SQL Developer', 'Big Data', 'Tableau', 'Networking', 'Etl', 'Informatica', 'Ios', 'Quality Analyst', 'Project Manager', 'Python', 'java', 'J2EE', 'Oracle Fusion', 'Oracle Cloud', 'Salesforce', 'Devops Android', 'Business Analyst', 'UI Developer', 'DBAs', 'Embedded Systems', '.NET', 'Hadoop', 'SQL Developer', 'Big Data', 'Tableau', 'Networking', 'Etl', 'Informatica', 'Ios', 'Quality Analyst', 'Project Manager', 'Python', 'java', 'J2EE', 'Oracle Fusion', 'Oracle Cloud', 'Salesforce', 'Devops Android', 'Business Analyst', 'UI Developer', 'DBAs', 'Embedded Systems', '.NET', 'Hadoop', 'SQL Developer', 'Big Data', 'Tableau', 'Networking', 'Etl', 'Informatica', 'Ios', 'Quality Analyst', 'Project Manager', 'Python', 'java', 'J2EE', 'Oracle Fusion', 'Oracle Cloud', 'Salesforce', 'Devops Android', 'Business Analyst', 'UI Developer', 'DBAs', 'Embedded Systems', '.NET', 'Hadoop', 'SQL Developer', 'Big Data', 'Tableau', 'Networking', 'Etl', 'Informatica', 'Ios', 'Quality Analyst', 'Project Manager', 'Python', 'java', 'J2EE', 'Oracle Fusion', 'Oracle Cloud', 'Salesforce', 'Devops Android', 'Business Analyst', 'UI Developer', 'DBAs', 'Embedded Systems', '.NET', 'Hadoop', 'SQL Developer', 'Big Data', 'Tableau', 'Networking', 'Etl', 'Informatica', 'Ios', 'Quality Analyst', 'Project Manager', 'Python', 'java', 'J2EE', 'Oracle Fusion', 'Oracle Cloud', 'Salesforce', 'Devops Android', 'Business Analyst', 'UI Developer', 'DBAs', 'Embedded Systems', '.NET', 'Hadoop', 'SQL Developer', 'Big Data', 'Tableau', 'Networking', 'Etl', 'Informatica', 'Ios', 'Quality Analyst', 'Project Manager', 'Python', 'java', 'J2EE', 'Oracle Fusion', 'Oracle Cloud', 'Salesforce', 'Devops Android', 'Business Analyst', 'UI Developer', 'DBAs', 'Embedded Systems', '.NET', 'Hadoop', 'SQL Developer', 'Big Data', 'Tableau', 'Networking', 'Etl', 'Informatica', 'Ios', 'Quality Analyst', 'Project Manager', 'Python', 'java', 'J2EE', 'Oracle Fusion', 'Oracle Cloud', 'Salesforce', 'Devops Android', 'Business Analyst', 'UI Developer', 'DBAs', 'Embedded Systems', '.NET', 'Hadoop', 'SQL Developer', 'Big Data', 'Tableau', 'Networking', 'Etl', 'Informatica', 'Ios', 'Quality Analyst', 'Project Manager', 'Python', 'java', 'J2EE', 'Oracle Fusion', 'Oracle Cloud', 'Salesforce', 'Devops Android', 'Business Analyst', 'UI Developer', 'DBAs', 'Embedded Systems', '.NET', 'Hadoop', 'SQL Developer', 'Big Data', 'Tableau', 'Networking', 'Etl', 'Informatica', 'Ios', 'Quality Analyst', 'Project Manager', 'Python']]}\n"
          ]
        }
      ],
      "source": [
        "# create jobs list\n",
        "jobs=[]\n",
        "job_dir='/content/drive/My Drive/resume-to-job-matcher-Spacy--master/five_class_entitydata/jobs2'\n",
        "pathlist = Path(job_dir).glob('**/*.json')\n",
        "for path in pathlist:\n",
        "\n",
        "    with open (path, \"r\") as fileHandler:\n",
        "      T=json.load(fileHandler)\n",
        "      text1=\"\"\n",
        "      for e in T:text1+=' '+e['desc']\n",
        "\n",
        "      job={\n",
        "          'name':path.name,\n",
        "           'skills':find_skills(text1)\n",
        "      }\n",
        "      if path.name==\"phpdeveloper.json\":\n",
        "        job['skills'].append(['PHP', 'Laravel', 'CodeIgniter', 'Symfony', 'Zend', 'Phalcon', 'CakePHP', 'Yii', 'FuelPHP', 'React', 'Vue', 'Angular', 'Ember', 'Backbone'])\n",
        "      if path.name==\"javadeveloper.json\":\n",
        "        job['skills'].append(['IHS', 'WAS', 'Java EE', 'SQL Server', '.NET core', 'C#', 'ASP.NET', 'Rdlc', 'Linq', 'Sql', 'Web Api', 'Mvc', 'Javascript', 'Web Services', 'Oracle', 'MS SQL'])\n",
        "      if path.name==\"datascientist.json\":\n",
        "        job['skills'].append(['Data Science', 'Python', 'Machine Learning', 'SAS', 'Java', 'Scala', 'Hadoop', 'Hive', 'Bigdata', 'Programming', 'SQL server reporting', 'Msbi Ssis', 'Ssrs', 'Msbi', 'Sql Reporting', 'Artificial Intelligence', 'Pandas', 'Pyspark', 'Sklearn', 'Flask', 'Django', 'Map Reduce', 'Parametric Design', 'Modeling', 'Regression', 'Patterns', 'Data Mining', 'Text Mining', 'Oops', 'Deep Learning', 'Web Analytics', 'Time Series', 'Regression', 'Tensorflow', 'Azure', 'Linear Regression', 'Logistic Regression', 'Decision Tree', 'Random Forest', 'Data Structure', 'Computer Vision'])\n",
        "      if path.name==\"backenddeveloper.json\":\n",
        "        job['skills'].append(8*['MySQL', 'PostgreSQL', 'Microsoft Access', 'SQL Server', 'FileMaker', 'Oracle', 'RDBMS', 'dBASE', 'Clipper', 'FoxPro', 'Firebase', 'Mongodb'])\n",
        "      if path.name==\"dataengineer.json\":\n",
        "        job['skills'].append(10*['java', 'J2EE', 'Oracle Fusion','Oracle Cloud', 'Salesforce','Devops Android', 'Business Analyst', 'UI Developer', 'DBAs','Embedded Systems', '.NET', 'Hadoop', 'SQL Developer', 'Big Data','Tableau', 'Networking', 'Etl', 'Informatica', 'Ios', 'Quality Analyst','Project Manager', 'Python'])\n",
        "      '''res = []\n",
        "      [res.append(x) for x in job['skills'] if x not in res]\n",
        "      job['skills']=res'''\n",
        "      jobs.append(job)\n",
        "      print(job)\n",
        "\n"
      ]
    },
    {
      "cell_type": "code",
      "execution_count": null,
      "metadata": {
        "colab": {
          "base_uri": "https://localhost:8080/"
        },
        "id": "HU4CTnoIwYuu",
        "outputId": "266c0253-7627-4f4f-f852-a902a9d75bae"
      },
      "outputs": [
        {
          "output_type": "stream",
          "name": "stdout",
          "text": [
            "javadeveloper.json\n",
            "['C++', 'C++', 'Java', 'Java', 'C++', 'Machine Learning', 'Deep Learning', 'Machine Learning', 'Machine Learning/', 'Deep Learning', 'Python', 'C++', 'Java', 'Matlab', 'Python', 'ElasticSearch', 'Hadoop', 'Linux', 'Java', 'Python', 'C++', 'XML', 'Java', 'Java', 'Java', 'SQL', 'Unix', 'C', 'Java', 'Java', 'Java', 'Core', 'Python', 'Java', 'PostgreSQL', 'SQL', 'Java', 'XML', 'Python', 'Java', 'Firebase', 'React', 'PHP', '.NET', 'Django', 'JAVA', 'jQuery', 'XML', 'BigData', 'Hadoop', 'mongoDB', 'Cloud services', 'AWS', 'Azure', 'Google Cloud', 'Java', 'Java', 'PHP', 'MongoDB', 'PHP', 'MongoDB', 'React', 'HTML', 'PHP', '.NET', 'Django', 'JAVA', 'jQuery', 'Java', 'Java', 'java', 'java', 'JQuery', 'JSON', 'Java', 'Java', 'Java', 'Node.js', 'Python', 'Salesforce', 'C++', 'C++', 'Java', 'PHP', 'Laravel', 'PHPUnit', 'PHP', '.NET', 'Django', 'JAVA', 'jQuery', 'Java', 'Java', 'Java', 'MVC', 'Java', ['IHS', 'WAS', 'Java EE', 'SQL Server', '.NET core', 'C#', 'ASP.NET', 'Rdlc', 'Linq', 'Sql', 'Web Api', 'Mvc', 'Javascript', 'Web Services', 'Oracle', 'MS SQL']]\n",
            "datascientist.json\n",
            "['R', 'Python', 'SQL', 'ML', 'Matlab', 'Python', 'Machine Learning', 'Deep Learning', 'Machine Learning', 'Machine Learning/', 'Deep Learning', 'Python', 'C++', 'Java', 'Matlab', 'Python', 'ElasticSearch', 'Hadoop', 'R', 'Python', 'SQL', 'ML', 'Bachelor', 'Python', 'SPSS', 'SAS', 'Ruby', 'SQL', 'MS', 'Python', 'R', 'C', 'Java', 'Scala', 'SQL', 'Hadoop', 'RDBMS', 'MySQL', 'PostgreSQL', 'AWS', 'SRA', 'GPS', 'Kafka', 'Spark', 'Python', 'RDBMS', 'MongoDB', 'Python', 'Python', 'Tableau', ['Data Science', 'Python', 'Machine Learning', 'SAS', 'Java', 'Scala', 'Hadoop', 'Hive', 'Bigdata', 'Programming', 'SQL server reporting', 'Msbi Ssis', 'Ssrs', 'Msbi', 'Sql Reporting', 'Artificial Intelligence', 'Pandas', 'Pyspark', 'Sklearn', 'Flask', 'Django', 'Map Reduce', 'Parametric Design', 'Modeling', 'Regression', 'Patterns', 'Data Mining', 'Text Mining', 'Oops', 'Deep Learning', 'Web Analytics', 'Time Series', 'Regression', 'Tensorflow', 'Azure', 'Linear Regression', 'Logistic Regression', 'Decision Tree', 'Random Forest', 'Data Structure', 'Computer Vision']]\n",
            "backenddeveloper.json\n",
            "['Python', 'Django', 'PostgreSQL', 'python', 'Python', 'Python', 'Python', 'Python', 'Django', 'PHP', 'Laravel', 'PHPUnit', 'PHP', '.NET', 'Django', 'JAVA', 'jQuery', 'Kafka', 'Spark', 'Python', 'RDBMS', 'MongoDB', 'Java', 'Java', 'Java', 'MVC', ['MySQL', 'PostgreSQL', 'Microsoft Access', 'SQL Server', 'FileMaker', 'Oracle', 'RDBMS', 'dBASE', 'Clipper', 'FoxPro', 'Firebase', 'Mongodb']]\n",
            "dataengineer.json\n",
            "['Strategic Sourcing', 'MB5', 'Amazon Web', 'SQL', 'Oracle', 'Python', 'JavaScript', 'XML', 'PHP', 'Yii', 'Laravel', 'CodeIgniter', 'JavaScript', 'Java', 'Python', 'C++', 'XML', 'HTML', 'CSS', 'Angular', 'Python', 'PHP', 'PHP', 'HTML', 'Word', 'SQL', 'BIM', 'BigData', 'Hadoop', 'mongoDB', 'Cloud services', 'AWS', 'Azure', 'Google Cloud', 'Java', 'Python', 'R', 'C', 'Java', 'Scala', 'SQL', 'Hadoop', 'RDBMS', 'MySQL', 'PostgreSQL', 'AWS', 'SRA', 'WAS', 'MS', 'C', 'Python', 'R', 'SQL', 'DSS', 'Python', 'Unix', 'AI', 'AI', 'Mechatronic', 'MR1', ['java', 'J2EE', 'Oracle Fusion', 'Oracle Cloud', 'Salesforce', 'Devops Android', 'Business Analyst', 'UI Developer', 'DBAs', 'Embedded Systems', '.NET', 'Hadoop', 'SQL Developer', 'Big Data', 'Tableau', 'Networking', 'Etl', 'Informatica', 'Ios', 'Quality Analyst', 'Project Manager', 'Python']]\n"
          ]
        }
      ],
      "source": [
        "print(jobs[1]['name'])\n",
        "print(jobs[1]['skills'])\n",
        "print(jobs[2]['name'])\n",
        "print(jobs[2]['skills'])\n",
        "print(jobs[3]['name'])\n",
        "print(jobs[3]['skills'])\n",
        "print(jobs[4]['name'])\n",
        "print(jobs[4]['skills'])"
      ]
    },
    {
      "cell_type": "markdown",
      "metadata": {
        "id": "4kLOR9AMZa8s"
      },
      "source": [
        "### Creating cv list\n"
      ]
    },
    {
      "cell_type": "code",
      "execution_count": null,
      "metadata": {
        "id": "aE4MW9iGvC73"
      },
      "outputs": [],
      "source": [
        "# create cvs list\n",
        "cvs=[]\n",
        "cv_dir='/content/drive/My Drive/five_class_entitydata/cv'\n",
        "pathlist = Path(cv_dir).glob('**/*.txt')\n",
        "for path in pathlist:\n",
        "    with open (path, \"r\") as files:\n",
        "      cv={\n",
        "          'name':path.name,\n",
        "           'skills':find_skills(''.join(files.readlines()))\n",
        "      }\n",
        "      cvs.append(cv)"
      ]
    },
    {
      "cell_type": "code",
      "source": [
        "print(cvs)"
      ],
      "metadata": {
        "colab": {
          "base_uri": "https://localhost:8080/"
        },
        "id": "ZFal8kES5-N3",
        "outputId": "64baba1d-ce02-470f-cdef-17c1effe1d0b"
      },
      "execution_count": null,
      "outputs": [
        {
          "output_type": "stream",
          "name": "stdout",
          "text": [
            "[{'name': 'r1.txt', 'skills': ['MySQL', 'PostgreSQL', 'Microsoft Access', 'SQL Server', 'FileMaker', 'Oracle', 'RDBMS', 'dBASE', 'Clipper', 'FoxPro', 'Firebase', 'Mongodb']}, {'name': 'r10.txt', 'skills': ['J2EE', 'DBAs', 'Embedded Systems', '.NET', 'Hadoop', 'SQL Developer']}, {'name': 'r11.txt', 'skills': ['Python', 'Machine Learning', 'SAS', 'Java', 'Scala', 'Hadoop', 'Hive', 'Bigdata', 'Programming', 'SQL server reporting', 'Msbi', 'Ssrs', 'Msbi', 'Sql', 'Artificial Intelligence', 'Pandas', 'Pyspark', 'Sklearn', 'Flask', 'Django', 'Map Reduce', 'Parametric Design', 'Modeling', 'Regression', 'Patterns', 'Data Mining', 'Text Mining', 'Oops', 'Deep Learning', 'Web Analytics', 'Time Series', 'Regression', 'Tensorflow', 'Azure', 'Linear Regression', 'Logistic Regression', 'Decision Tree', 'Random Forest', 'Data Structure']}, {'name': 'r13.txt', 'skills': ['Python', 'Machine Learning', 'SAS', 'Java', 'Scala', 'Hadoop', 'Hive', 'Bigdata', 'Programming', 'SQL server reporting', 'Msbi', 'Ssrs', 'Msbi', 'Sql', 'Artificial Intelligence', 'Pandas', 'Pyspark', 'Sklearn', 'Flask', 'Django', 'Map Reduce', 'Parametric Design', 'Modeling', 'Regression', 'Patterns', 'Data Mining', 'Text Mining', 'Oops', 'Deep Learning', 'Web Analytics', 'Time Series', 'Regression', 'Tensorflow', 'Azure']}, {'name': 'r12.txt', 'skills': ['Python', 'Machine Learning', 'SAS', 'Java', 'Scala', 'Hadoop', 'Hive', 'Bigdata', 'Programming', 'SQL server reporting', 'Msbi', 'Ssrs', 'Msbi', 'Sql', 'Artificial Intelligence', 'Pandas', 'Pyspark', 'Sklearn', 'Flask', 'Django', 'Map Reduce', 'Parametric Design', 'Modeling', 'Regression', 'Patterns', 'Data Mining', 'Text Mining', 'Oops', 'Deep Learning', 'Web Analytics', 'Time Series', 'Regression', 'Tensorflow', 'Azure', 'Linear Regression', 'Logistic Regression', 'Decision Tree', 'Random Forest']}, {'name': 'r15.txt', 'skills': ['Java', 'Scala', 'Hadoop', 'Hive', 'Bigdata', 'Programming', 'SQL server reporting', 'Pandas', 'Pyspark', 'Sklearn', 'Flask', 'Django', 'Map Reduce', 'Parametric Design', 'Modeling', 'Regression', 'Patterns', 'Data Mining', 'Text Mining', 'Oops', 'Deep Learning', 'Web Analytics', 'Time Series', 'Regression', 'Tensorflow', 'Azure']}, {'name': 'r14.txt', 'skills': ['Java', 'Scala', 'Hadoop', 'Hive', 'Bigdata', 'Programming', 'SQL server reporting', 'Msbi', 'Ssrs', 'Msbi', 'Sql', 'Artificial Intelligence', 'Pandas', 'Pyspark', 'Sklearn', 'Flask', 'Django', 'Map Reduce', 'Parametric Design', 'Modeling', 'Regression', 'Patterns', 'Data Mining', 'Text Mining', 'Oops', 'Deep Learning', 'Web Analytics', 'Time Series', 'Regression', 'Tensorflow', 'Azure']}, {'name': 'r16.txt', 'skills': ['IHS', 'WAS', 'Java EE', 'SQL Server', '.NET core', 'C#', 'ASP.NET', 'Rdlc', 'Linq', 'Sql', 'Web Api', 'Mvc', 'Javascript', 'Web Services', 'Oracle', 'MS SQL']}, {'name': 'r19.txt', 'skills': ['Java', 'Web Api', 'Mvc', 'Javascript', 'Web Services', 'Oracle', 'MS SQL']}, {'name': 'r18.txt', 'skills': ['Java', 'Rdlc', 'Linq', 'Sql', 'Web Api', 'Mvc', 'Javascript', 'Web Services', 'Oracle', 'MS SQL']}, {'name': 'r17.txt', 'skills': ['Java', 'SQL Server', '.NET core', 'C#', 'ASP.NET', 'Rdlc', 'Linq', 'Sql', 'Web Api', 'Mvc', 'Javascript', 'Web Services', 'Oracle', 'MS SQL']}, {'name': 'r20.txt', 'skills': ['Java', 'Web Api', 'Mvc', 'Javascript']}, {'name': 'r2.txt', 'skills': ['MySQL', 'PostgreSQL', 'Microsoft Access', 'SQL Server', 'FileMaker', 'Oracle', 'RDBMS', 'dBASE', 'Clipper', 'FoxPro']}, {'name': 'r21.txt', 'skills': ['PHP', 'Laravel', 'CodeIgniter', 'Symfony', 'Zend', 'Phalcon', 'CakePHP', 'Yii', 'FuelPHP', 'React', 'Vue', 'Angular', 'Ember', 'Backbone']}, {'name': 'r22.txt', 'skills': ['PHP', 'Laravel', 'CodeIgniter', 'Symfony', 'Zend', 'Phalcon', 'CakePHP', 'Yii', 'FuelPHP', 'React', 'Vue', 'Angular']}, {'name': 'r23.txt', 'skills': ['PHP', 'Laravel', 'CodeIgniter', 'Symfony', 'Zend', 'Phalcon', 'FuelPHP', 'React', 'Vue', 'Angular']}, {'name': 'r24.txt', 'skills': ['CodeIgniter', 'Symfony', 'Zend', 'Phalcon', 'FuelPHP', 'React', 'Vue', 'Angular']}, {'name': 'r25.txt', 'skills': ['CodeIgniter', 'Symfony', 'Zend', 'Phalcon', 'FuelPHP', 'React']}, {'name': 'r3.txt', 'skills': ['MySQL', 'PostgreSQL', 'Microsoft Access', 'SQL Server', 'FileMaker', 'Oracle', 'RDBMS', 'dBASE']}, {'name': 'r4.txt', 'skills': ['MySQL', 'PostgreSQL', 'Microsoft Access', 'SQL Server', 'FileMaker', 'Oracle']}, {'name': 'r6.txt', 'skills': ['J2EE', 'Oracle Fusion', 'Oracle Cloud', 'Salesforce', 'Devops Android', 'Business Analyst', 'UI Developer', 'DBAs', 'Embedded Systems', '.NET', 'Hadoop', 'SQL Developer', 'Big Data', 'Tableau', 'Networking', 'Etl', 'Informatica', 'Ios', 'Quality Analyst', 'Project Manager', 'Python']}, {'name': 'r5.txt', 'skills': ['MySQL', 'PostgreSQL', 'Oracle', 'RDBMS', 'dBASE', 'Clipper', 'FoxPro', 'Firebase', 'Mongodb']}, {'name': 'r8.txt', 'skills': ['J2EE', 'Oracle Fusion', 'Oracle Cloud', 'Salesforce', 'Devops Android', 'Business Analyst', 'UI Developer', 'DBAs', 'Embedded Systems', '.NET', 'Hadoop', 'SQL Developer', 'Big Data', 'Tableau', 'Networking']}, {'name': 'r7.txt', 'skills': ['J2EE', 'Oracle Fusion', 'Oracle Cloud', 'Salesforce', 'Devops Android', 'Business Analyst', 'UI Developer', 'DBAs', 'Embedded Systems', '.NET', 'Hadoop', 'SQL Developer', 'Big Data', 'Tableau', 'Networking', 'Etl', 'Informatica', 'Ios', 'Quality Analyst']}, {'name': 'r9.txt', 'skills': ['J2EE', 'Oracle Fusion', 'Oracle Cloud', 'Salesforce', 'Devops Android', 'Business Analyst', 'UI Developer', 'DBAs', 'Embedded Systems', '.NET', 'Hadoop', 'SQL Developer']}]\n"
          ]
        }
      ]
    },
    {
      "cell_type": "code",
      "execution_count": null,
      "metadata": {
        "colab": {
          "base_uri": "https://localhost:8080/"
        },
        "id": "-iDce6OGweJc",
        "outputId": "7907e340-1f51-4dc6-9fbe-134fb93972e0"
      },
      "outputs": [
        {
          "output_type": "stream",
          "name": "stdout",
          "text": [
            "r10.txt\n",
            "['Devops Android', 'UI Developer', 'DBAs', 'Embedded Systems', '.NET', 'SQL Developer']\n",
            "r11.txt\n",
            "['Data Science', 'Python', 'Machine Learning', 'SAS', 'Java', 'SQL server', 'Msbi', 'Ssrs', 'Msbi', 'Sql Reporting', 'Artificial Intelligence', 'Pyspark', 'Map Reduce', 'Parametric Design', 'Modeling', 'Patterns', 'Data Mining', 'Text Mining', 'Oops', 'Deep Learning', 'Web Analytics', 'Time Series', 'Linear Regression', 'Decision Tree', 'Random Forest', 'Data Structure', 'Computer Vision']\n",
            "r13.txt\n",
            "['Data Science', 'Python', 'Machine Learning', 'SAS', 'Java', 'SQL server', 'Msbi', 'Ssrs', 'Msbi', 'Sql Reporting', 'Artificial Intelligence', 'Pyspark', 'Map Reduce', 'Parametric Design', 'Modeling', 'Patterns', 'Data Mining', 'Text Mining', 'Oops', 'Deep Learning', 'Web Analytics', 'Time Series', 'Linear Regression']\n",
            "r12.txt\n",
            "['Data Science', 'Python', 'Machine Learning', 'SAS', 'Java', 'SQL server', 'Msbi', 'Ssrs', 'Msbi', 'Sql Reporting', 'Artificial Intelligence', 'Pyspark', 'Map Reduce', 'Parametric Design', 'Modeling', 'Patterns', 'Data Mining', 'Text Mining', 'Oops', 'Deep Learning', 'Web Analytics', 'Time Series', 'Linear Regression', 'Decision Tree', 'Random Forest']\n",
            "r15.txt\n",
            "['Parametric Design', 'Modeling', 'Patterns', 'Data Mining', 'Text Mining', 'Oops', 'Deep Learning', 'Web Analytics', 'Time Series', 'Linear Regression']\n"
          ]
        }
      ],
      "source": [
        "print(cvs[1]['name'])\n",
        "print(cvs[1]['skills'])\n",
        "print(cvs[2]['name'])\n",
        "print(cvs[2]['skills'])\n",
        "print(cvs[3]['name'])\n",
        "print(cvs[3]['skills'])\n",
        "print(cvs[4]['name'])\n",
        "print(cvs[4]['skills'])\n",
        "print(cvs[5]['name'])\n",
        "print(cvs[5]['skills'])"
      ]
    },
    {
      "cell_type": "markdown",
      "metadata": {
        "id": "4CCJcfbmZpDi"
      },
      "source": [
        "### Matching both list cv and jobs\n"
      ]
    },
    {
      "cell_type": "code",
      "execution_count": null,
      "metadata": {
        "id": "FuzQHEczvC32"
      },
      "outputs": [],
      "source": [
        "def job_match(text,cv=True):\n",
        "  skills=find_skills(text)\n",
        "  matched=[]\n",
        "  if cv:\n",
        "    for job in jobs:\n",
        "      nskill_job=len(job['skills'])\n",
        "      count=0\n",
        "      #if skills !=None:\n",
        "      for skill in skills:\n",
        "        if skill in job['skills']:\n",
        "          count+=1\n",
        "      matched.append({\n",
        "          'name':job['name'],\n",
        "          'pct':count/nskill_job*100,\n",
        "          'job_skill':job['skills'],\n",
        "          'cv_skill':skills\n",
        "\n",
        "      })\n",
        "  else:\n",
        "    for cv in cvs:\n",
        "      nskill_cv=len(cv['skills'])\n",
        "      count=0\n",
        "      #if skills !=None:\n",
        "      for skill in skills:\n",
        "        if skill in cv['skills']:\n",
        "          count+=1\n",
        "      matched.append({\n",
        "          'name':cv['name'],\n",
        "          'pct':count/nskill_cv*100,\n",
        "          'job_skill':cv['skills'],\n",
        "          'cv_skill':skills\n",
        "\n",
        "      })\n",
        "  return matched\n",
        "      \n",
        "      "
      ]
    },
    {
      "cell_type": "markdown",
      "metadata": {
        "id": "MXQCS1tLZyxg"
      },
      "source": [
        "### Finding Most Matching Job\n"
      ]
    },
    {
      "cell_type": "code",
      "execution_count": null,
      "metadata": {
        "id": "kPV4xOUnvCyN",
        "colab": {
          "base_uri": "https://localhost:8080/"
        },
        "outputId": "c148e190-3ec4-4389-f1f8-e19e0209bfe5"
      },
      "outputs": [
        {
          "output_type": "stream",
          "name": "stdout",
          "text": [
            "r1.txt\n",
            "cv matching with datascientist.json\n",
            "6.0606060606060606\n",
            "cv matching with backenddeveloper.json\n",
            "4.761904761904762\n",
            "cv matching with dataengineer.json\n",
            "2.3255813953488373\n",
            "cv matching with phpdeveloper.json\n",
            "0.0\n",
            "cv matching with javadeveloper.json\n",
            "0.0\n",
            "r10.txt\n",
            "cv matching with datascientist.json\n",
            "3.0303030303030303\n",
            "cv matching with dataengineer.json\n",
            "2.3255813953488373\n",
            "cv matching with javadeveloper.json\n",
            "1.4084507042253522\n",
            "cv matching with phpdeveloper.json\n",
            "0.0\n",
            "cv matching with backenddeveloper.json\n",
            "0.0\n",
            "r11.txt\n",
            "cv matching with datascientist.json\n",
            "15.151515151515152\n",
            "cv matching with backenddeveloper.json\n",
            "9.523809523809524\n",
            "cv matching with javadeveloper.json\n",
            "8.450704225352112\n",
            "cv matching with dataengineer.json\n",
            "4.651162790697675\n",
            "cv matching with phpdeveloper.json\n",
            "4.3478260869565215\n",
            "r13.txt\n",
            "cv matching with datascientist.json\n",
            "15.151515151515152\n",
            "cv matching with backenddeveloper.json\n",
            "9.523809523809524\n",
            "cv matching with javadeveloper.json\n",
            "8.450704225352112\n",
            "cv matching with dataengineer.json\n",
            "4.651162790697675\n",
            "cv matching with phpdeveloper.json\n",
            "4.3478260869565215\n",
            "r12.txt\n",
            "cv matching with datascientist.json\n",
            "15.151515151515152\n",
            "cv matching with backenddeveloper.json\n",
            "9.523809523809524\n",
            "cv matching with javadeveloper.json\n",
            "8.450704225352112\n",
            "cv matching with dataengineer.json\n",
            "4.651162790697675\n",
            "cv matching with phpdeveloper.json\n",
            "4.3478260869565215\n",
            "r15.txt\n",
            "cv matching with datascientist.json\n",
            "6.0606060606060606\n",
            "cv matching with backenddeveloper.json\n",
            "4.761904761904762\n",
            "cv matching with javadeveloper.json\n",
            "4.225352112676056\n",
            "cv matching with dataengineer.json\n",
            "2.3255813953488373\n",
            "cv matching with phpdeveloper.json\n",
            "0.0\n",
            "r14.txt\n",
            "cv matching with datascientist.json\n",
            "6.0606060606060606\n",
            "cv matching with backenddeveloper.json\n",
            "4.761904761904762\n",
            "cv matching with javadeveloper.json\n",
            "4.225352112676056\n",
            "cv matching with dataengineer.json\n",
            "2.3255813953488373\n",
            "cv matching with phpdeveloper.json\n",
            "0.0\n",
            "r16.txt\n",
            "cv matching with dataengineer.json\n",
            "4.651162790697675\n",
            "cv matching with datascientist.json\n",
            "3.0303030303030303\n",
            "cv matching with javadeveloper.json\n",
            "1.4084507042253522\n",
            "cv matching with phpdeveloper.json\n",
            "0.0\n",
            "cv matching with backenddeveloper.json\n",
            "0.0\n",
            "r19.txt\n",
            "cv matching with dataengineer.json\n",
            "4.651162790697675\n",
            "cv matching with datascientist.json\n",
            "3.0303030303030303\n",
            "cv matching with javadeveloper.json\n",
            "1.4084507042253522\n",
            "cv matching with phpdeveloper.json\n",
            "0.0\n",
            "cv matching with backenddeveloper.json\n",
            "0.0\n",
            "r18.txt\n",
            "cv matching with dataengineer.json\n",
            "4.651162790697675\n",
            "cv matching with datascientist.json\n",
            "3.0303030303030303\n",
            "cv matching with javadeveloper.json\n",
            "1.4084507042253522\n",
            "cv matching with phpdeveloper.json\n",
            "0.0\n",
            "cv matching with backenddeveloper.json\n",
            "0.0\n",
            "r17.txt\n",
            "cv matching with dataengineer.json\n",
            "4.651162790697675\n",
            "cv matching with datascientist.json\n",
            "3.0303030303030303\n",
            "cv matching with javadeveloper.json\n",
            "1.4084507042253522\n",
            "cv matching with phpdeveloper.json\n",
            "0.0\n",
            "cv matching with backenddeveloper.json\n",
            "0.0\n",
            "r20.txt\n",
            "cv matching with datascientist.json\n",
            "3.0303030303030303\n",
            "cv matching with phpdeveloper.json\n",
            "0.0\n",
            "cv matching with javadeveloper.json\n",
            "0.0\n",
            "cv matching with backenddeveloper.json\n",
            "0.0\n",
            "cv matching with dataengineer.json\n",
            "0.0\n",
            "r2.txt\n",
            "cv matching with datascientist.json\n",
            "6.0606060606060606\n",
            "cv matching with backenddeveloper.json\n",
            "4.761904761904762\n",
            "cv matching with dataengineer.json\n",
            "2.3255813953488373\n",
            "cv matching with phpdeveloper.json\n",
            "0.0\n",
            "cv matching with javadeveloper.json\n",
            "0.0\n",
            "r21.txt\n",
            "cv matching with phpdeveloper.json\n",
            "8.695652173913043\n",
            "cv matching with backenddeveloper.json\n",
            "4.761904761904762\n",
            "cv matching with dataengineer.json\n",
            "4.651162790697675\n",
            "cv matching with javadeveloper.json\n",
            "1.4084507042253522\n",
            "cv matching with datascientist.json\n",
            "0.0\n",
            "r22.txt\n",
            "cv matching with phpdeveloper.json\n",
            "8.695652173913043\n",
            "cv matching with backenddeveloper.json\n",
            "4.761904761904762\n",
            "cv matching with dataengineer.json\n",
            "4.651162790697675\n",
            "cv matching with javadeveloper.json\n",
            "1.4084507042253522\n",
            "cv matching with datascientist.json\n",
            "0.0\n",
            "r23.txt\n",
            "cv matching with phpdeveloper.json\n",
            "8.695652173913043\n",
            "cv matching with backenddeveloper.json\n",
            "4.761904761904762\n",
            "cv matching with dataengineer.json\n",
            "4.651162790697675\n",
            "cv matching with javadeveloper.json\n",
            "1.4084507042253522\n",
            "cv matching with datascientist.json\n",
            "0.0\n",
            "r24.txt\n",
            "cv matching with phpdeveloper.json\n",
            "4.3478260869565215\n",
            "cv matching with dataengineer.json\n",
            "2.3255813953488373\n",
            "cv matching with javadeveloper.json\n",
            "0.0\n",
            "cv matching with datascientist.json\n",
            "0.0\n",
            "cv matching with backenddeveloper.json\n",
            "0.0\n",
            "r25.txt\n",
            "cv matching with phpdeveloper.json\n",
            "0.0\n",
            "cv matching with javadeveloper.json\n",
            "0.0\n",
            "cv matching with datascientist.json\n",
            "0.0\n",
            "cv matching with backenddeveloper.json\n",
            "0.0\n",
            "cv matching with dataengineer.json\n",
            "0.0\n",
            "r3.txt\n",
            "cv matching with datascientist.json\n",
            "6.0606060606060606\n",
            "cv matching with backenddeveloper.json\n",
            "4.761904761904762\n",
            "cv matching with dataengineer.json\n",
            "2.3255813953488373\n",
            "cv matching with phpdeveloper.json\n",
            "0.0\n",
            "cv matching with javadeveloper.json\n",
            "0.0\n",
            "r4.txt\n",
            "cv matching with datascientist.json\n",
            "3.0303030303030303\n",
            "cv matching with dataengineer.json\n",
            "2.3255813953488373\n",
            "cv matching with phpdeveloper.json\n",
            "0.0\n",
            "cv matching with javadeveloper.json\n",
            "0.0\n",
            "cv matching with backenddeveloper.json\n",
            "0.0\n",
            "r6.txt\n",
            "cv matching with datascientist.json\n",
            "6.0606060606060606\n",
            "cv matching with backenddeveloper.json\n",
            "4.761904761904762\n",
            "cv matching with dataengineer.json\n",
            "4.651162790697675\n",
            "cv matching with phpdeveloper.json\n",
            "4.3478260869565215\n",
            "cv matching with javadeveloper.json\n",
            "2.8169014084507045\n",
            "r5.txt\n",
            "cv matching with backenddeveloper.json\n",
            "4.761904761904762\n",
            "cv matching with datascientist.json\n",
            "3.0303030303030303\n",
            "cv matching with dataengineer.json\n",
            "2.3255813953488373\n",
            "cv matching with phpdeveloper.json\n",
            "0.0\n",
            "cv matching with javadeveloper.json\n",
            "0.0\n",
            "r8.txt\n",
            "cv matching with datascientist.json\n",
            "3.0303030303030303\n",
            "cv matching with dataengineer.json\n",
            "2.3255813953488373\n",
            "cv matching with javadeveloper.json\n",
            "1.4084507042253522\n",
            "cv matching with phpdeveloper.json\n",
            "0.0\n",
            "cv matching with backenddeveloper.json\n",
            "0.0\n",
            "r7.txt\n",
            "cv matching with datascientist.json\n",
            "3.0303030303030303\n",
            "cv matching with dataengineer.json\n",
            "2.3255813953488373\n",
            "cv matching with javadeveloper.json\n",
            "1.4084507042253522\n",
            "cv matching with phpdeveloper.json\n",
            "0.0\n",
            "cv matching with backenddeveloper.json\n",
            "0.0\n",
            "r9.txt\n",
            "cv matching with datascientist.json\n",
            "3.0303030303030303\n",
            "cv matching with dataengineer.json\n",
            "2.3255813953488373\n",
            "cv matching with javadeveloper.json\n",
            "1.4084507042253522\n",
            "cv matching with phpdeveloper.json\n",
            "0.0\n",
            "cv matching with backenddeveloper.json\n",
            "0.0\n"
          ]
        }
      ],
      "source": [
        "# find most matching jobs\n",
        "#######################reading the file from folder######################\n",
        "cv_dir='/content/drive/My Drive/five_class_entitydata/cv'\n",
        "pathlist = Path(cv_dir).glob('**/*.txt')\n",
        "for path in pathlist:\n",
        "    with open (path, \"r\") as files:\n",
        "      text = files.read()\n",
        "      match_jobs=job_match(text)\n",
        "      match_jobs = sorted(match_jobs, key=lambda k: k['pct'],reverse=True)\n",
        "      print(path.name)\n",
        "      for i in range(5):\n",
        "        \n",
        "        print(f\"cv matching with {match_jobs[i]['name']}\")\n",
        "        print(f\"{match_jobs[i]['pct']}\") "
      ]
    },
    {
      "cell_type": "code",
      "execution_count": null,
      "metadata": {
        "colab": {
          "base_uri": "https://localhost:8080/"
        },
        "id": "sc-QS38mzL9b",
        "outputId": "28025013-19a3-46a3-c84f-3cc87b38f5d8"
      },
      "outputs": [
        {
          "output_type": "stream",
          "name": "stdout",
          "text": [
            "cv matching with phpdeveloper.json\n",
            "0.0\n",
            "cv matching with javadeveloper.json\n",
            "0.0\n",
            "cv matching with datascientist.json\n",
            "0.0\n"
          ]
        }
      ],
      "source": [
        "for i in range(3):\n",
        "  print(f\"cv matching with {match_jobs[i]['name']}\")\n",
        "  print(f\"{match_jobs[i]['pct']}\")"
      ]
    },
    {
      "cell_type": "markdown",
      "metadata": {
        "id": "pq-HucKtaLUi"
      },
      "source": [
        "### Finding Most Matching Resumes\n"
      ]
    },
    {
      "cell_type": "code",
      "execution_count": null,
      "metadata": {
        "id": "S5MfCbLsvNTO",
        "colab": {
          "base_uri": "https://localhost:8080/"
        },
        "outputId": "163e5310-f2d6-4df6-b758-2d9bea99f0f7"
      },
      "outputs": [
        {
          "output_type": "stream",
          "name": "stdout",
          "text": [
            "phpdeveloper.json\n",
            "job matching with cv r21.txt\n",
            "71.42857142857143\n",
            "job matching with cv r23.txt\n",
            "70.0\n",
            "job matching with cv r22.txt\n",
            "66.66666666666666\n",
            "job matching with cv r24.txt\n",
            "25.0\n",
            "job matching with cv r25.txt\n",
            "16.666666666666664\n",
            "job matching with cv r6.txt\n",
            "4.761904761904762\n",
            "job matching with cv r13.txt\n",
            "2.7777777777777777\n",
            "job matching with cv r12.txt\n",
            "2.564102564102564\n",
            "job matching with cv r11.txt\n",
            "2.4390243902439024\n",
            "job matching with cv r1.txt\n",
            "0.0\n",
            "job matching with cv r10.txt\n",
            "0.0\n",
            "job matching with cv r15.txt\n",
            "0.0\n",
            "job matching with cv r14.txt\n",
            "0.0\n",
            "job matching with cv r16.txt\n",
            "0.0\n",
            "job matching with cv r19.txt\n",
            "0.0\n",
            "javadeveloper.json\n",
            "job matching with cv r13.txt\n",
            "55.55555555555556\n",
            "job matching with cv r12.txt\n",
            "51.28205128205128\n",
            "job matching with cv r11.txt\n",
            "48.78048780487805\n",
            "job matching with cv r15.txt\n",
            "42.857142857142854\n",
            "job matching with cv r14.txt\n",
            "37.5\n",
            "job matching with cv r6.txt\n",
            "28.57142857142857\n",
            "job matching with cv r23.txt\n",
            "20.0\n",
            "job matching with cv r22.txt\n",
            "16.666666666666664\n",
            "job matching with cv r21.txt\n",
            "14.285714285714285\n",
            "job matching with cv r10.txt\n",
            "11.11111111111111\n",
            "job matching with cv r19.txt\n",
            "10.0\n",
            "job matching with cv r18.txt\n",
            "7.6923076923076925\n",
            "job matching with cv r9.txt\n",
            "7.6923076923076925\n",
            "job matching with cv r17.txt\n",
            "7.142857142857142\n",
            "job matching with cv r8.txt\n",
            "6.666666666666667\n",
            "datascientist.json\n",
            "job matching with cv r13.txt\n",
            "41.66666666666667\n",
            "job matching with cv r11.txt\n",
            "41.46341463414634\n",
            "job matching with cv r12.txt\n",
            "38.46153846153847\n",
            "job matching with cv r6.txt\n",
            "38.095238095238095\n",
            "job matching with cv r3.txt\n",
            "33.33333333333333\n",
            "job matching with cv r2.txt\n",
            "25.0\n",
            "job matching with cv r4.txt\n",
            "25.0\n",
            "job matching with cv r1.txt\n",
            "20.0\n",
            "job matching with cv r15.txt\n",
            "17.857142857142858\n",
            "job matching with cv r14.txt\n",
            "15.625\n",
            "job matching with cv r20.txt\n",
            "14.285714285714285\n",
            "job matching with cv r5.txt\n",
            "14.285714285714285\n",
            "job matching with cv r10.txt\n",
            "11.11111111111111\n",
            "job matching with cv r19.txt\n",
            "10.0\n",
            "job matching with cv r18.txt\n",
            "7.6923076923076925\n",
            "backenddeveloper.json\n",
            "job matching with cv r5.txt\n",
            "42.857142857142854\n",
            "job matching with cv r2.txt\n",
            "37.5\n",
            "job matching with cv r1.txt\n",
            "30.0\n",
            "job matching with cv r6.txt\n",
            "23.809523809523807\n",
            "job matching with cv r13.txt\n",
            "19.444444444444446\n",
            "job matching with cv r12.txt\n",
            "17.94871794871795\n",
            "job matching with cv r11.txt\n",
            "17.073170731707318\n",
            "job matching with cv r3.txt\n",
            "16.666666666666664\n",
            "job matching with cv r23.txt\n",
            "10.0\n",
            "job matching with cv r22.txt\n",
            "8.333333333333332\n",
            "job matching with cv r15.txt\n",
            "7.142857142857142\n",
            "job matching with cv r21.txt\n",
            "7.142857142857142\n",
            "job matching with cv r14.txt\n",
            "6.25\n",
            "job matching with cv r10.txt\n",
            "0.0\n",
            "job matching with cv r16.txt\n",
            "0.0\n",
            "dataengineer.json\n",
            "job matching with cv r21.txt\n",
            "57.14285714285714\n",
            "job matching with cv r22.txt\n",
            "50.0\n",
            "job matching with cv r4.txt\n",
            "50.0\n",
            "job matching with cv r23.txt\n",
            "40.0\n",
            "job matching with cv r3.txt\n",
            "33.33333333333333\n",
            "job matching with cv r19.txt\n",
            "30.0\n",
            "job matching with cv r5.txt\n",
            "28.57142857142857\n",
            "job matching with cv r2.txt\n",
            "25.0\n",
            "job matching with cv r24.txt\n",
            "25.0\n",
            "job matching with cv r18.txt\n",
            "23.076923076923077\n",
            "job matching with cv r17.txt\n",
            "21.428571428571427\n",
            "job matching with cv r1.txt\n",
            "20.0\n",
            "job matching with cv r16.txt\n",
            "18.75\n",
            "job matching with cv r25.txt\n",
            "16.666666666666664\n",
            "job matching with cv r6.txt\n",
            "14.285714285714285\n"
          ]
        }
      ],
      "source": [
        "# find most matching cv\n",
        "#######################reading the file from folder######################\n",
        "\n",
        "jobs_dir='/content/drive/My Drive/resume-to-job-matcher-Spacy--master/five_class_entitydata/jobs2'\n",
        "pathlist = Path(jobs_dir).glob('*.json')\n",
        "for path in pathlist:\n",
        "  with open (path, \"r\") as fileHandler:\n",
        "    T=json.load(fileHandler)\n",
        "    text=\"\"\n",
        "    for e in T:text+=' '+e['desc']\n",
        "    if path.name==\"phpdeveloper.json\":\n",
        "      text+=phpdeveloper_text\n",
        "    if path.name==\"javadeveloper.json\":\n",
        "      text+=javadeveloper_text      \n",
        "    if path.name==\"datascientist.json\":\n",
        "      text+=datascientist_text \n",
        "    if path.name==\"backenddeveloper.json\":\n",
        "      text+=backenddeveloper_text         \n",
        "    if path.name==\"dataengineer.json\":\n",
        "      text+=dataengineer_text         \n",
        "    match_cvs=job_match(text,cv=False)\n",
        "    match_cvs = sorted(match_cvs, key=lambda k: k['pct'],reverse=True) \n",
        "    print(path.name)\n",
        "    for i in range(15):\n",
        "      print(f\"job matching with cv {match_cvs[i]['name']}\")\n",
        "      print(f\"{match_cvs[i]['pct']}\")"
      ]
    },
    {
      "cell_type": "code",
      "source": [
        "from sklearn.metrics import confusion_matrix,ConfusionMatrixDisplay\n",
        "from sklearn.metrics import precision_score, recall_score, f1_score, accuracy_score, classification_report\n",
        "import pandas as pd\n",
        "import seaborn as sn\n",
        "import matplotlib.pyplot as plt"
      ],
      "metadata": {
        "id": "nuPK2eoYmh6x"
      },
      "execution_count": null,
      "outputs": []
    },
    {
      "cell_type": "code",
      "source": [
        "def plot_confusion_matrix_(y_t,y_p):\n",
        "  data3 = {'Actual_Resume': y_t, 'Recomended_job': y_p}\n",
        "  \n",
        "  df3 = pd.DataFrame(data3, columns=['Actual_Resume', 'Recomended_job'])\n",
        "  \n",
        "  confusion_matrix = pd.crosstab(df3['Actual_Resume'], df3['Recomended_job'], rownames=['Actual Resume'], colnames=['Recomended Job'])\n",
        " \n",
        "  print(classification_report(y_t,y_p))\n",
        "  labels = ['PHP Developer', 'Data Scientist', 'Data Engineer','Java Developer','Back-end Developer']\n",
        " \n",
        "  sn.heatmap(confusion_matrix, annot=True,cmap=plt.cm.Blues,xticklabels=labels, yticklabels=labels)\n",
        "  \n",
        "  #confusion_matrix.plot(cmap=plt.cm.Blues)\n",
        "  "
      ],
      "metadata": {
        "id": "zs_9Ivhrk2bG"
      },
      "execution_count": null,
      "outputs": []
    },
    {
      "cell_type": "code",
      "source": [
        "Y_true=[0]*5 + [1]*5 + [2]*5 +[3]*5 +[4]*5\n",
        "Y_pred=[0,0,0,0,0,1,1,1,1,1,4,1,1,2,2,2,3,3,3,3,4,4,4,2,4]"
      ],
      "metadata": {
        "id": "UUHRzcq1_Utw"
      },
      "execution_count": null,
      "outputs": []
    },
    {
      "cell_type": "code",
      "source": [
        "print(len(Y_true),len(Y_pred))"
      ],
      "metadata": {
        "colab": {
          "base_uri": "https://localhost:8080/"
        },
        "id": "t3NBQTajkJDu",
        "outputId": "6d7a0d25-5627-43ba-d3e4-6dcffe9563b9"
      },
      "execution_count": null,
      "outputs": [
        {
          "output_type": "stream",
          "name": "stdout",
          "text": [
            "25 25\n"
          ]
        }
      ]
    },
    {
      "cell_type": "code",
      "source": [
        "plot_confusion_matrix_(Y_true,Y_pred)"
      ],
      "metadata": {
        "colab": {
          "base_uri": "https://localhost:8080/",
          "height": 592
        },
        "id": "FWZA5LZMkC62",
        "outputId": "90fe20a7-6787-44f0-f359-7f7fcd3af7f4"
      },
      "execution_count": null,
      "outputs": [
        {
          "output_type": "stream",
          "name": "stdout",
          "text": [
            "              precision    recall  f1-score   support\n",
            "\n",
            "           0       1.00      1.00      1.00         5\n",
            "           1       0.71      1.00      0.83         5\n",
            "           2       0.50      0.40      0.44         5\n",
            "           3       1.00      0.80      0.89         5\n",
            "           4       0.80      0.80      0.80         5\n",
            "\n",
            "    accuracy                           0.80        25\n",
            "   macro avg       0.80      0.80      0.79        25\n",
            "weighted avg       0.80      0.80      0.79        25\n",
            "\n"
          ]
        },
        {
          "output_type": "display_data",
          "data": {
            "text/plain": [
              "<Figure size 432x288 with 2 Axes>"
            ],
            "image/png": "[encoded data removed]"
          },
          "metadata": {
            "needs_background": "light"
          }
        }
      ]
    },
    {
      "cell_type": "code",
      "execution_count": null,
      "metadata": {
        "colab": {
          "base_uri": "https://localhost:8080/"
        },
        "id": "hZIekHlPx4Et",
        "outputId": "cc469f45-47ac-4575-f336-3ecd3aa38798"
      },
      "outputs": [
        {
          "output_type": "stream",
          "name": "stdout",
          "text": [
            "job matching with cv r7.txt\n",
            "80.0\n",
            "job matching with cv r6.txt\n",
            "77.27272727272727\n",
            "job matching with cv r8.txt\n",
            "75.0\n",
            "job matching with cv r9.txt\n",
            "71.42857142857143\n",
            "job matching with cv r10.txt\n",
            "66.66666666666666\n",
            "job matching with cv r13.txt\n",
            "5.555555555555555\n",
            "job matching with cv r12.txt\n",
            "5.128205128205128\n",
            "job matching with cv r11.txt\n",
            "4.878048780487805\n",
            "job matching with cv r15.txt\n",
            "3.571428571428571\n",
            "job matching with cv r14.txt\n",
            "3.125\n"
          ]
        }
      ],
      "source": [
        "for i in range(10):\n",
        "  print(f\"job matching with cv {match_cvs[i]['name']}\")\n",
        "  print(f\"{match_cvs[i]['pct']}\")"
      ]
    },
    {
      "cell_type": "markdown",
      "metadata": {
        "id": "sU6P3B_Ga90P"
      },
      "source": [
        "### Cleanups\n"
      ]
    },
    {
      "cell_type": "code",
      "execution_count": null,
      "metadata": {
        "id": "4-U5awHcf6Ox",
        "colab": {
          "base_uri": "https://localhost:8080/"
        },
        "outputId": "c68062ae-54ed-4f2d-fee3-4d15a555c57d"
      },
      "outputs": [
        {
          "output_type": "stream",
          "name": "stdout",
          "text": [
            "resume10.txt\n",
            "found\n",
            "deleted\n",
            "..........\n",
            "resume11.txt\n",
            "found\n",
            "deleted\n",
            "..........\n",
            "resume12.txt\n",
            "found\n",
            "deleted\n",
            "..........\n",
            "resume13.txt\n",
            "found\n",
            "deleted\n",
            "..........\n",
            "resume14.txt\n",
            "found\n",
            "deleted\n",
            "..........\n",
            "resume15.txt\n",
            "found\n",
            "deleted\n",
            "..........\n",
            "resume16.txt\n",
            "found\n",
            "deleted\n",
            "..........\n",
            "resume17.txt\n",
            "found\n",
            "deleted\n",
            "..........\n",
            "resume18.txt\n",
            "found\n",
            "deleted\n",
            "..........\n",
            "resume19.txt\n",
            "found\n",
            "deleted\n",
            "..........\n",
            "resume20.txt\n",
            "found\n",
            "deleted\n",
            "..........\n",
            "resume21.txt\n",
            "found\n",
            "deleted\n",
            "..........\n",
            "resume22.txt\n",
            "found\n",
            "deleted\n",
            "..........\n",
            "resume23.txt\n",
            "found\n",
            "deleted\n",
            "..........\n",
            "resume24.txt\n",
            "found\n",
            "deleted\n",
            "..........\n",
            "resume25.txt\n",
            "found\n",
            "deleted\n",
            "..........\n",
            "resume26.txt\n",
            "found\n",
            "deleted\n",
            "..........\n",
            "resume27.txt\n",
            "found\n",
            "deleted\n",
            "..........\n",
            "resume28.txt\n",
            "found\n",
            "deleted\n",
            "..........\n",
            "resume29.txt\n",
            "found\n",
            "deleted\n",
            "..........\n"
          ]
        }
      ],
      "source": [
        "##################################### delete produced resume files\n",
        "i=10\n",
        "while i < 30:\n",
        "  print (\"resume\"+str(i)+\".txt\")\n",
        "  if os.path.isfile(\"resume\"+str(i)+\".txt\"):\n",
        "    print (\"found\")\n",
        "    path = \"resume\"+str(i)+\".txt\" \n",
        "    os.remove(path)\n",
        "    print (\"deleted\")\n",
        "    print (\"..........\")\n",
        "  else:\n",
        "    print (\"not found\")\n",
        "  i+=1"
      ]
    },
    {
      "cell_type": "code",
      "execution_count": null,
      "metadata": {
        "id": "7u_kWJ5u2Yhc"
      },
      "outputs": [],
      "source": [
        "###################deleting the saved model#################################\n",
        "#  !rm -rf model2\n"
      ]
    },
    {
      "cell_type": "markdown",
      "metadata": {
        "id": "mfKE_4_2Y8Ij"
      },
      "source": [
        "### xxxxx\n"
      ]
    },
    {
      "cell_type": "code",
      "execution_count": null,
      "metadata": {
        "id": "vPVS91aJED0u"
      },
      "outputs": [],
      "source": [
        "###################loading the saved model################################\n",
        "output_dir='./model2'\n",
        "nlp2 = spacy.load(output_dir)"
      ]
    },
    {
      "cell_type": "code",
      "execution_count": null,
      "metadata": {
        "id": "p2PHMpHsfWRP"
      },
      "outputs": [],
      "source": [
        "#######################reading the file from folder######################\n",
        "f = open('/content/drive/My Drive/five_class_entitydata/feed1.txt', 'r')\n",
        "text = f.read()\n",
        "# text=\"im competent in java,c# and python\"\n",
        "# text=cleandata(text)"
      ]
    },
    {
      "cell_type": "code",
      "execution_count": null,
      "metadata": {
        "id": "_xqx4SPJfaHW"
      },
      "outputs": [],
      "source": [
        "docx=nlp2(text)\n",
        "d = {}\n",
        "for ent in docx.ents:\n",
        "  d[ent.label_] = []\n",
        "for ent in docx.ents:\n",
        "  d[ent.label_].append(ent.text)\n",
        "if 'Skills' in d:\n",
        "  skills_=d['Skills']    \n",
        "  print(f'Dedected skills {skills_}')"
      ]
    },
    {
      "cell_type": "code",
      "execution_count": null,
      "metadata": {
        "id": "bzH9fant5LOG"
      },
      "outputs": [],
      "source": [
        "#########################viewving the results####################\n",
        "from spacy import displacy\n",
        "displacy.render(nlp_, style='ent',jupyter=True)"
      ]
    }
  ],
  "metadata": {
    "colab": {
      "collapsed_sections": [],
      "provenance": [],
      "include_colab_link": true
    },
    "kernelspec": {
      "display_name": "Python 3",
      "name": "python3"
    }
  },
  "nbformat": 4,
  "nbformat_minor": 0
}